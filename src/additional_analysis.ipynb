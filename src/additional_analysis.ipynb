{
 "cells": [
  {
   "cell_type": "markdown",
   "metadata": {},
   "source": [
    "# Analysis for the Additional Treatments "
   ]
  },
  {
   "cell_type": "markdown",
   "metadata": {},
   "source": [
    "## Imports"
   ]
  },
  {
   "cell_type": "code",
   "execution_count": 12,
   "metadata": {},
   "outputs": [],
   "source": [
    "import pandas as pd\n",
    "import numpy as np\n",
    "import matplotlib.pyplot as plt"
   ]
  },
  {
   "cell_type": "code",
   "execution_count": 20,
   "metadata": {},
   "outputs": [],
   "source": [
    "from scipy import stats\n",
    "from scipy.stats import chi2_contingency\n",
    "from statsmodels.stats.multicomp import pairwise_tukeyhsd\n",
    "from scipy.stats import ks_2samp\n",
    "import itertools\n",
    "from scipy.stats import epps_singleton_2samp\n",
    "from scipy.stats import kstest\n",
    "from scipy.stats import chisquare\n",
    "from scipy.stats import brunnermunzel "
   ]
  },
  {
   "cell_type": "markdown",
   "metadata": {},
   "source": [
    "## Load Data"
   ]
  },
  {
   "cell_type": "code",
   "execution_count": 2,
   "metadata": {},
   "outputs": [],
   "source": [
    "individual_df = pd.read_csv('/Users/aaronberman/Desktop/Altruism & Lying Aversion/data/additional_baseline/all_additional_treatments_dropbox_df.csv', index_col=0)"
   ]
  },
  {
   "cell_type": "code",
   "execution_count": 3,
   "metadata": {},
   "outputs": [
    {
     "data": {
      "text/plain": [
       "Index(['Duration (in seconds)', 'ResponseId', 'TimerInstrucs_First Click',\n",
       "       'TimerInstrucs_Last Click', 'TimerInstrucs_Page Submit',\n",
       "       'TimerInstrucs_Click Count', 'TimerInstrucsCont_First Click',\n",
       "       'TimerInstrucsCont_Last Click', 'TimerInstrucsCont_Page Submit',\n",
       "       'TimerInstrucsCont_Click Count', 'decision', 'nationality', 'gender',\n",
       "       'Big5 Gosling 2003_1', 'Big5 Gosling 2003_2', 'Big5 Gosling 2003_3',\n",
       "       'Big5 Gosling 2003_4', 'Big5 Gosling 2003_5', 'Big5 Gosling 2003_6',\n",
       "       'Big5 Gosling 2003_7', 'Big5 Gosling 2003_8', 'Big5 Gosling 2003_9',\n",
       "       'Big5 Gosling 2003_10', 'Location', 'Treatment'],\n",
       "      dtype='object')"
      ]
     },
     "execution_count": 3,
     "metadata": {},
     "output_type": "execute_result"
    }
   ],
   "source": [
    "individual_df.columns"
   ]
  },
  {
   "cell_type": "markdown",
   "metadata": {},
   "source": [
    "## Summary Statistics"
   ]
  },
  {
   "cell_type": "markdown",
   "metadata": {},
   "source": [
    "### Chapman"
   ]
  },
  {
   "cell_type": "code",
   "execution_count": 4,
   "metadata": {},
   "outputs": [
    {
     "name": "stdout",
     "output_type": "stream",
     "text": [
      "Gender counts among Chapman participants:\n",
      " Female    78\n",
      "Male      33\n",
      "Other      1\n",
      "Name: gender, dtype: int64\n",
      "\n",
      "Nationality counts among Chapman participants:\n",
      " American    95\n",
      "Other       14\n",
      "Chinese      3\n",
      "Name: nationality, dtype: int64\n",
      "\n",
      "Treatment counts among Chapman participants:\n",
      " Stochastic       57\n",
      "Deterministic    55\n",
      "Name: Treatment, dtype: int64\n",
      "\\Decision counts among Chapman participants:\n",
      " 5    71\n",
      "4    22\n",
      "3    11\n",
      "2     6\n",
      "1     2\n",
      "Name: decision, dtype: int64\n"
     ]
    }
   ],
   "source": [
    "chapman_participants = individual_df[individual_df['Location'] == 'Chapman']\n",
    "\n",
    "# 'gender' counts\n",
    "gender_counts_chapman = chapman_participants['gender'].value_counts()\n",
    "\n",
    "# 'nationality' counts\n",
    "nationality_counts_chapman = chapman_participants['nationality'].value_counts()\n",
    "\n",
    "# 'Treatment' counts\n",
    "treatment_counts_chapman = chapman_participants['Treatment'].value_counts()\n",
    "\n",
    "# 'decision' counts\n",
    "decision_counts_chapman = chapman_participants['decision'].value_counts()\n",
    "\n",
    "print(\"Gender counts among Chapman participants:\\n\", gender_counts_chapman)\n",
    "print(\"\\nNationality counts among Chapman participants:\\n\", nationality_counts_chapman)\n",
    "print(\"\\nTreatment counts among Chapman participants:\\n\", treatment_counts_chapman)\n",
    "print(\"\\Decision counts among Chapman participants:\\n\", decision_counts_chapman)"
   ]
  },
  {
   "cell_type": "code",
   "execution_count": 5,
   "metadata": {},
   "outputs": [
    {
     "name": "stdout",
     "output_type": "stream",
     "text": [
      "Mean Duration (in seconds): 735.7410714285714\n",
      "Standard Deviation of Duration (in seconds): 5777.010107243955\n",
      "Median Duration (in seconds): 155.0\n"
     ]
    }
   ],
   "source": [
    "# Response time consideration\n",
    "mean_duration_chapman = chapman_participants['Duration (in seconds)'].mean()\n",
    "std_duration_chapman = chapman_participants['Duration (in seconds)'].std()\n",
    "median_duration_chapman = chapman_participants['Duration (in seconds)'].median()\n",
    "\n",
    "print(f\"Mean Duration (in seconds): {mean_duration_chapman}\")\n",
    "print(f\"Standard Deviation of Duration (in seconds): {std_duration_chapman}\")\n",
    "print(f\"Median Duration (in seconds): {median_duration_chapman}\")"
   ]
  },
  {
   "cell_type": "markdown",
   "metadata": {},
   "source": [
    "### Wuhan"
   ]
  },
  {
   "cell_type": "code",
   "execution_count": 6,
   "metadata": {},
   "outputs": [
    {
     "name": "stdout",
     "output_type": "stream",
     "text": [
      "Gender counts among Wuhan participants:\n",
      " Female               60\n",
      "Male                 38\n",
      "Prefer not to say     1\n",
      "Name: gender, dtype: int64\n",
      "\n",
      "Nationality counts among Wuhan participants:\n",
      " Chinese    99\n",
      "Name: nationality, dtype: int64\n",
      "\n",
      "Treatment counts among Wuhan participants:\n",
      " Deterministic    52\n",
      "Stochastic       48\n",
      "Name: Treatment, dtype: int64\n",
      "\\Decision counts among Wuhan participants:\n",
      " 5    60\n",
      "4    21\n",
      "3    14\n",
      "1     3\n",
      "2     2\n",
      "Name: decision, dtype: int64\n"
     ]
    }
   ],
   "source": [
    "wuhan_participants = individual_df[individual_df['Location'] == 'Wuhan']\n",
    "\n",
    "# 'gender' counts\n",
    "gender_counts_wuhan = wuhan_participants['gender'].value_counts()\n",
    "\n",
    "# 'nationality' counts\n",
    "nationality_counts_wuhan = wuhan_participants['nationality'].value_counts()\n",
    "\n",
    "# 'Treatment' counts\n",
    "treatment_counts_wuhan = wuhan_participants['Treatment'].value_counts()\n",
    "\n",
    "# 'decision' counts\n",
    "decision_counts_wuhan = wuhan_participants['decision'].value_counts()\n",
    "\n",
    "print(\"Gender counts among Wuhan participants:\\n\", gender_counts_wuhan)\n",
    "print(\"\\nNationality counts among Wuhan participants:\\n\", nationality_counts_wuhan)\n",
    "print(\"\\nTreatment counts among Wuhan participants:\\n\", treatment_counts_wuhan)\n",
    "print(\"\\Decision counts among Wuhan participants:\\n\", decision_counts_wuhan)"
   ]
  },
  {
   "cell_type": "code",
   "execution_count": 7,
   "metadata": {},
   "outputs": [
    {
     "name": "stdout",
     "output_type": "stream",
     "text": [
      "Mean Duration (in seconds): 804.58\n",
      "Standard Deviation of Duration (in seconds): 2723.173995487061\n",
      "Median Duration (in seconds): 248.5\n"
     ]
    }
   ],
   "source": [
    "mean_duration_wuhan = wuhan_participants['Duration (in seconds)'].mean()\n",
    "std_duration_wuhan = wuhan_participants['Duration (in seconds)'].std()\n",
    "median_duration_wuhan = wuhan_participants['Duration (in seconds)'].median()\n",
    "\n",
    "print(f\"Mean Duration (in seconds): {mean_duration_wuhan}\")\n",
    "print(f\"Standard Deviation of Duration (in seconds): {std_duration_wuhan}\")\n",
    "print(f\"Median Duration (in seconds): {median_duration_wuhan}\")"
   ]
  },
  {
   "cell_type": "markdown",
   "metadata": {},
   "source": [
    "## PMFs"
   ]
  },
  {
   "cell_type": "code",
   "execution_count": 8,
   "metadata": {},
   "outputs": [],
   "source": [
    "# Function to calculate PMF\n",
    "def calculate_pmf(df, column):\n",
    "    pmf = df[column].value_counts(normalize=True)\n",
    "    pmf = pmf.sort_index()  # Sort by index for readability\n",
    "    return pmf"
   ]
  },
  {
   "cell_type": "code",
   "execution_count": 17,
   "metadata": {},
   "outputs": [
    {
     "name": "stdout",
     "output_type": "stream",
     "text": [
      "\n",
      "PMF for Location == Chapman, Treatment == Deterministic\n",
      " 2    0.018182\n",
      "3    0.072727\n",
      "4    0.181818\n",
      "5    0.727273\n",
      "Name: decision, dtype: float64\n",
      "\n",
      "PMF for Location == Chapman, Treatment == Stochastic\n",
      " 1    0.035088\n",
      "2    0.087719\n",
      "3    0.122807\n",
      "4    0.210526\n",
      "5    0.543860\n",
      "Name: decision, dtype: float64\n",
      "\n",
      "PMF for Location == Wuhan, Treatment == Deterministic\n",
      " 2    0.019231\n",
      "3    0.076923\n",
      "4    0.173077\n",
      "5    0.730769\n",
      "Name: decision, dtype: float64\n",
      "\n",
      "PMF for Location == Wuhan, Treatment == Stochastic\n",
      " 1    0.062500\n",
      "2    0.020833\n",
      "3    0.208333\n",
      "4    0.250000\n",
      "5    0.458333\n",
      "Name: decision, dtype: float64\n"
     ]
    }
   ],
   "source": [
    "# Define the combinations\n",
    "combinations = [\n",
    "    ('Chapman', 'Deterministic'),\n",
    "    ('Chapman', 'Stochastic'),\n",
    "    ('Wuhan', 'Deterministic'),\n",
    "    ('Wuhan', 'Stochastic'),\n",
    "]\n",
    "\n",
    "# Iterate through combinations, calculate, and print PMFs\n",
    "for location, treatment, in combinations:\n",
    "    subset_df = individual_df[(individual_df['Location'] == location) & \n",
    "                   (individual_df['Treatment'] == treatment)]\n",
    "    pmf = calculate_pmf(subset_df, 'decision')\n",
    "    \n",
    "    print(f\"\\nPMF for Location == {location}, Treatment == {treatment}\\n\", pmf)"
   ]
  },
  {
   "cell_type": "code",
   "execution_count": 18,
   "metadata": {},
   "outputs": [],
   "source": [
    "def plot_pmf_by_combinations(df):   \n",
    "    # Initialize an empty list to store all PMFs\n",
    "    all_pmfs = []\n",
    "\n",
    "    # Calculate PMF for each combination and store in the list\n",
    "    for location, treatment in combinations:\n",
    "        subset_df = df[(df['Location'] == location) & (df['Treatment'] == treatment)]\n",
    "        pmf = subset_df['decision'].value_counts(normalize=True).sort_index()\n",
    "        all_pmfs.append(pmf)\n",
    "\n",
    "    # Determine the global max probability for consistent y-axis scaling\n",
    "    max_probability = max(pmf.max() for pmf in all_pmfs)\n",
    "\n",
    "    # Create the figure and subplots\n",
    "    fig, axs = plt.subplots(len(combinations)//2, 2, figsize=(15, 20))\n",
    "    axs = axs.flatten()  # Flatten to iterate easily\n",
    "    fig.subplots_adjust(hspace=0.5, wspace=0.3)\n",
    "\n",
    "    for i, (location, treatment) in enumerate(combinations):\n",
    "        pmf = all_pmfs[i]\n",
    "        \n",
    "        # Ensure every plot has bars for decisions 1 through 5, even if some have 0 probability\n",
    "        decisions = range(1, 6)  # Assuming decisions go from 1 to 5\n",
    "        probabilities = [pmf.get(decision, 0) for decision in decisions]\n",
    "        \n",
    "        axs[i].bar(decisions, probabilities, color='skyblue')\n",
    "        axs[i].set_title(f'Location: {location}, Treatment: {treatment}')\n",
    "        axs[i].set_xlabel('Decision')\n",
    "        axs[i].set_ylabel('Probability')\n",
    "        axs[i].set_ylim(0, max_probability + 0.05)  # Add a little padding to the max probability\n",
    "        axs[i].set_xticks(decisions)\n",
    "\n",
    "    plt.tight_layout()\n",
    "    plt.show()"
   ]
  },
  {
   "cell_type": "code",
   "execution_count": 19,
   "metadata": {},
   "outputs": [
    {
     "data": {
      "image/png": "[encoded data removed]",
      "text/plain": [
       "<Figure size 1500x2000 with 4 Axes>"
      ]
     },
     "metadata": {},
     "output_type": "display_data"
    }
   ],
   "source": [
    "plot_pmf_by_combinations(individual_df)"
   ]
  },
  {
   "cell_type": "markdown",
   "metadata": {},
   "source": [
    "## Statistical Tests"
   ]
  },
  {
   "cell_type": "code",
   "execution_count": 26,
   "metadata": {},
   "outputs": [],
   "source": [
    "# Create a new column that combines the 'Location', 'Treatment', and 'Partner' into a single group identifier\n",
    "individual_df['Group'] = individual_df['Location'] + ', ' + individual_df['Treatment'] \n"
   ]
  },
  {
   "cell_type": "markdown",
   "metadata": {},
   "source": [
    "### Chi-Squared"
   ]
  },
  {
   "cell_type": "code",
   "execution_count": 28,
   "metadata": {},
   "outputs": [],
   "source": [
    "def perform_chi_squared_tests_for_pairs(df, group_by_col, decision_col='decision'):\n",
    "    \"\"\"\n",
    "    Perform Chi-squared tests on the distribution of a decision variable across pairwise combinations of treatments.\n",
    "    \n",
    "    Parameters:\n",
    "    - df: The pandas DataFrame containing your data.\n",
    "    - group_by_col: Column name for grouping, typically 'Treatment' or similar.\n",
    "    - decision_col: The decision column to test, defaults to 'decision'.\n",
    "    \n",
    "    Returns:\n",
    "    - results: A list of dictionaries containing results for each pair.\n",
    "    \"\"\"\n",
    "    results = []\n",
    "    treatments = df[group_by_col].unique()\n",
    "    pairs = itertools.combinations(treatments, 2)  # Get all unique pairs of treatments\n",
    "\n",
    "    for treatment1, treatment2 in pairs:\n",
    "        # Filter data for each treatment in the pair\n",
    "        sub_df = df[df[group_by_col].isin([treatment1, treatment2])]\n",
    "        \n",
    "        # Create a contingency table\n",
    "        contingency_table = pd.crosstab(sub_df[decision_col], sub_df[group_by_col])\n",
    "        \n",
    "        # Perform the Chi-squared test\n",
    "        chi2, p, dof, expected = chi2_contingency(contingency_table)\n",
    "        \n",
    "        # Append the results\n",
    "        results.append({\n",
    "            'Treatment Pair': f'{treatment1} vs {treatment2}',\n",
    "            'Chi2 Statistic': chi2,\n",
    "            'P-value': p,\n",
    "            #'Degrees of Freedom': dof,\n",
    "            #'Expected Frequencies': expected\n",
    "        })\n",
    "\n",
    "    return results"
   ]
  },
  {
   "cell_type": "code",
   "execution_count": 29,
   "metadata": {},
   "outputs": [
    {
     "name": "stdout",
     "output_type": "stream",
     "text": [
      "{'Treatment Pair': 'Chapman, Deterministic vs Chapman, Stochastic', 'Chi2 Statistic': 6.77395751435781, 'P-value': 0.14832670420625776}\n",
      "{'Treatment Pair': 'Chapman, Deterministic vs Wuhan, Stochastic', 'Chi2 Statistic': 10.55206206916251, 'P-value': 0.032087354901427736}\n",
      "{'Treatment Pair': 'Chapman, Deterministic vs Wuhan, Deterministic', 'Chi2 Statistic': 0.01981705878467012, 'P-value': 0.999262440376773}\n",
      "{'Treatment Pair': 'Chapman, Stochastic vs Wuhan, Stochastic', 'Chi2 Statistic': 4.183689054072472, 'P-value': 0.3817166574941492}\n",
      "{'Treatment Pair': 'Chapman, Stochastic vs Wuhan, Deterministic', 'Chi2 Statistic': 6.407690104200402, 'P-value': 0.17070037420247258}\n",
      "{'Treatment Pair': 'Wuhan, Stochastic vs Wuhan, Deterministic', 'Chi2 Statistic': 10.122863247863249, 'P-value': 0.03840814969836484}\n"
     ]
    }
   ],
   "source": [
    "results = perform_chi_squared_tests_for_pairs(individual_df, 'Group')\n",
    "for result in results:\n",
    "    print(result)"
   ]
  },
  {
   "cell_type": "markdown",
   "metadata": {},
   "source": [
    "### Epps-Singleton"
   ]
  },
  {
   "cell_type": "code",
   "execution_count": 30,
   "metadata": {},
   "outputs": [
    {
     "name": "stdout",
     "output_type": "stream",
     "text": [
      "Intel MKL WARNING: Support of Intel(R) Streaming SIMD Extensions 4.2 (Intel(R) SSE4.2) enabled only processors has been deprecated. Intel oneAPI Math Kernel Library 2025.0 will require Intel(R) Advanced Vector Extensions (Intel(R) AVX) instructions.\n",
      "Intel MKL WARNING: Support of Intel(R) Streaming SIMD Extensions 4.2 (Intel(R) SSE4.2) enabled only processors has been deprecated. Intel oneAPI Math Kernel Library 2025.0 will require Intel(R) Advanced Vector Extensions (Intel(R) AVX) instructions.\n",
      "Epps-Singleton Test Statistic: 7.356774233648693, P-value: 0.1181933188816434\n"
     ]
    }
   ],
   "source": [
    "# Chapman | Deterministic vs Stochastic\n",
    "sample1 = individual_df[(individual_df['Location'] == 'Chapman') & (individual_df['Treatment'] == 'Deterministic')]['decision']\n",
    "sample2 = individual_df[(individual_df['Location'] == 'Chapman') & (individual_df['Treatment'] == 'Stochastic')]['decision']\n",
    "\n",
    "# Perform the Epps-Singleton test\n",
    "statistic, p_value = epps_singleton_2samp(sample1, sample2)\n",
    "print(f\"Epps-Singleton Test Statistic: {statistic}, P-value: {p_value}\")"
   ]
  },
  {
   "cell_type": "code",
   "execution_count": 31,
   "metadata": {},
   "outputs": [
    {
     "name": "stdout",
     "output_type": "stream",
     "text": [
      "Intel MKL WARNING: Support of Intel(R) Streaming SIMD Extensions 4.2 (Intel(R) SSE4.2) enabled only processors has been deprecated. Intel oneAPI Math Kernel Library 2025.0 will require Intel(R) Advanced Vector Extensions (Intel(R) AVX) instructions.\n",
      "Intel MKL WARNING: Support of Intel(R) Streaming SIMD Extensions 4.2 (Intel(R) SSE4.2) enabled only processors has been deprecated. Intel oneAPI Math Kernel Library 2025.0 will require Intel(R) Advanced Vector Extensions (Intel(R) AVX) instructions.\n",
      "Epps-Singleton Test Statistic: 10.875072302721337, P-value: 0.02800449433729857\n"
     ]
    }
   ],
   "source": [
    "# Wuhan | Deterministic vs Stochastic\n",
    "sample1 = individual_df[(individual_df['Location'] == 'Wuhan') & (individual_df['Treatment'] == 'Deterministic')]['decision']\n",
    "sample2 = individual_df[(individual_df['Location'] == 'Wuhan') & (individual_df['Treatment'] == 'Stochastic')]['decision']\n",
    "\n",
    "# Perform the Epps-Singleton test\n",
    "statistic, p_value = epps_singleton_2samp(sample1, sample2)\n",
    "print(f\"Epps-Singleton Test Statistic: {statistic}, P-value: {p_value}\")"
   ]
  },
  {
   "cell_type": "code",
   "execution_count": 32,
   "metadata": {},
   "outputs": [
    {
     "name": "stdout",
     "output_type": "stream",
     "text": [
      "Intel MKL WARNING: Support of Intel(R) Streaming SIMD Extensions 4.2 (Intel(R) SSE4.2) enabled only processors has been deprecated. Intel oneAPI Math Kernel Library 2025.0 will require Intel(R) Advanced Vector Extensions (Intel(R) AVX) instructions.\n",
      "Intel MKL WARNING: Support of Intel(R) Streaming SIMD Extensions 4.2 (Intel(R) SSE4.2) enabled only processors has been deprecated. Intel oneAPI Math Kernel Library 2025.0 will require Intel(R) Advanced Vector Extensions (Intel(R) AVX) instructions.\n",
      "Epps-Singleton Test Statistic: 0.01982420832057621, P-value: 0.9992620427801501\n"
     ]
    },
    {
     "name": "stderr",
     "output_type": "stream",
     "text": [
      "/Users/aaronberman/opt/anaconda3/envs/MGPGG_DA/lib/python3.9/site-packages/scipy/stats/_hypotests.py:131: UserWarning: Estimated covariance matrix does not have full rank. This indicates a bad choice of the input t and the test might not be consistent.\n",
      "  warnings.warn('Estimated covariance matrix does not have full rank. '\n"
     ]
    }
   ],
   "source": [
    "# Deterministic | Chapman vs Wuhan\n",
    "sample1 = individual_df[(individual_df['Location'] == 'Chapman') & (individual_df['Treatment'] == 'Deterministic')]['decision']\n",
    "sample2 = individual_df[(individual_df['Location'] == 'Wuhan') & (individual_df['Treatment'] == 'Deterministic')]['decision']\n",
    "\n",
    "# Perform the Epps-Singleton test\n",
    "statistic, p_value = epps_singleton_2samp(sample1, sample2)\n",
    "print(f\"Epps-Singleton Test Statistic: {statistic}, P-value: {p_value}\")"
   ]
  },
  {
   "cell_type": "code",
   "execution_count": 33,
   "metadata": {},
   "outputs": [
    {
     "name": "stdout",
     "output_type": "stream",
     "text": [
      "Intel MKL WARNING: Support of Intel(R) Streaming SIMD Extensions 4.2 (Intel(R) SSE4.2) enabled only processors has been deprecated. Intel oneAPI Math Kernel Library 2025.0 will require Intel(R) Advanced Vector Extensions (Intel(R) AVX) instructions.\n",
      "Epps-Singleton Test Statistic: 4.531289713435836, P-value: 0.33885343588689115\n",
      "Intel MKL WARNING: Support of Intel(R) Streaming SIMD Extensions 4.2 (Intel(R) SSE4.2) enabled only processors has been deprecated. Intel oneAPI Math Kernel Library 2025.0 will require Intel(R) Advanced Vector Extensions (Intel(R) AVX) instructions.\n"
     ]
    }
   ],
   "source": [
    "# Stochastic | Chapman vs Wuhan\n",
    "sample1 = individual_df[(individual_df['Location'] == 'Chapman') & (individual_df['Treatment'] == 'Stochastic')]['decision']\n",
    "sample2 = individual_df[(individual_df['Location'] == 'Wuhan') & (individual_df['Treatment'] == 'Stochastic')]['decision']\n",
    "\n",
    "# Perform the Epps-Singleton test\n",
    "statistic, p_value = epps_singleton_2samp(sample1, sample2)\n",
    "print(f\"Epps-Singleton Test Statistic: {statistic}, P-value: {p_value}\")"
   ]
  },
  {
   "cell_type": "markdown",
   "metadata": {},
   "source": [
    "### One-Sample"
   ]
  },
  {
   "cell_type": "code",
   "execution_count": 22,
   "metadata": {},
   "outputs": [],
   "source": [
    "stochastic_df = individual_df[individual_df['Treatment'] == 'Stochastic']"
   ]
  },
  {
   "cell_type": "markdown",
   "metadata": {},
   "source": [
    "#### Chi-Squared"
   ]
  },
  {
   "cell_type": "code",
   "execution_count": 25,
   "metadata": {},
   "outputs": [
    {
     "name": "stdout",
     "output_type": "stream",
     "text": [
      "{'Group': 'Chapman', 'Chi2 Statistic': 46.77192982456141, 'P-value': 1.7011571278480278e-09}\n",
      "{'Group': 'Wuhan', 'Chi2 Statistic': 28.875000000000004, 'P-value': 8.28801232290047e-06}\n"
     ]
    },
    {
     "name": "stderr",
     "output_type": "stream",
     "text": [
      "/var/folders/ry/bf84d3cd54jctn_cwy_5666m0000gn/T/ipykernel_20356/3857729372.py:6: FutureWarning: In a future version of pandas, a length 1 tuple will be returned when iterating over a groupby with a grouper equal to a list of length 1. Don't supply a list with a single grouper to avoid this warning.\n",
      "  for group, group_df in stochastic_df.groupby(['Location']):\n"
     ]
    }
   ],
   "source": [
    "unique_decisions = [1, 2, 3, 4, 5]\n",
    "num_decisions = len(unique_decisions)\n",
    "\n",
    "# Perform the Chi-squared test for each group where Treatment == 'Lie'\n",
    "results = []\n",
    "for group, group_df in stochastic_df.groupby(['Location']):\n",
    "    # Count occurrences of each decision\n",
    "    observed_frequencies = group_df['decision'].value_counts().reindex(unique_decisions, fill_value=0)\n",
    "    expected_frequencies = [len(group_df) / num_decisions] * num_decisions  # Uniform expected frequencies\n",
    "\n",
    "    # Chi-squared test\n",
    "    chi2_stat, p_value = chisquare(f_obs=observed_frequencies, f_exp=expected_frequencies)\n",
    "\n",
    "    results.append({\n",
    "        'Group': group,\n",
    "        'Chi2 Statistic': chi2_stat,\n",
    "        'P-value': p_value\n",
    "    })\n",
    "\n",
    "# Display the results\n",
    "for result in results:\n",
    "    print(result)"
   ]
  }
 ],
 "metadata": {
  "kernelspec": {
   "display_name": "MGPGG_DA",
   "language": "python",
   "name": "python3"
  },
  "language_info": {
   "codemirror_mode": {
    "name": "ipython",
    "version": 3
   },
   "file_extension": ".py",
   "mimetype": "text/x-python",
   "name": "python",
   "nbconvert_exporter": "python",
   "pygments_lexer": "ipython3",
   "version": "3.9.17"
  }
 },
 "nbformat": 4,
 "nbformat_minor": 2
}
