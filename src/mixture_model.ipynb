{
 "cells": [
  {
   "cell_type": "markdown",
   "metadata": {},
   "source": [
    "# Mixture Model"
   ]
  },
  {
   "cell_type": "markdown",
   "metadata": {},
   "source": [
    "## Description"
   ]
  },
  {
   "cell_type": "markdown",
   "metadata": {},
   "source": [
    "$F_{D}^{S, T}$ is a multinomial distribution over {1, 2, 3, 4, 5}.\n",
    "\n",
    "$F_{L}^{S, T}$ is a multinomial distribution over {1, 2, 3, 4, 5}.\n",
    "\n",
    "where $D$ is the dictator game, $L$ is the lying-dictator game, $S$ is a participant's location, Chapman (C) or Wuhan (W), and $T$ is the recipient's location, Chapman (C) or Wuhan (W). \n",
    "\n",
    "$F_{U}$ is the uniform distribution over {1, 2, 3, 4, 5}.\n",
    "\n",
    "$L(X) = L(F_{D}^{S, T}(X_{D})) + \\alpha L(F_{L}^{S, T}(X_{L})) + (1-\\alpha)L(F_{U}(X_{L}))$"
   ]
  },
  {
   "cell_type": "markdown",
   "metadata": {},
   "source": [
    "## Imports"
   ]
  },
  {
   "cell_type": "code",
   "execution_count": 75,
   "metadata": {},
   "outputs": [],
   "source": [
    "import numpy as np\n",
    "import pandas as pd\n",
    "from scipy.stats import multinomial\n",
    "from scipy.optimize import minimize"
   ]
  },
  {
   "cell_type": "code",
   "execution_count": 76,
   "metadata": {},
   "outputs": [],
   "source": [
    "np.set_printoptions(suppress=True)"
   ]
  },
  {
   "cell_type": "markdown",
   "metadata": {},
   "source": [
    "## Load Data"
   ]
  },
  {
   "cell_type": "code",
   "execution_count": 77,
   "metadata": {},
   "outputs": [],
   "source": [
    "altruism_df = pd.read_csv('/Users/aaronberman/Desktop/Altruism & Lying Aversion/data/altruism_all_data_df.csv', index_col=0)\n",
    "columns_to_drop = ['StartDate', 'EndDate', 'Status', 'Progress', 'Finished', 'RecordedDate', 'DistributionChannel', 'UserLanguage',\n",
    "                   'Consent', 'Min Tokens', 'Max Tokens', 'SM', 'University', 'understand', 'session_id', 'recruiter_id', 'public_id',\n",
    "                   'email', 'Total']\n",
    "altruism_df = altruism_df.drop(columns_to_drop, axis=1)"
   ]
  },
  {
   "cell_type": "code",
   "execution_count": 78,
   "metadata": {},
   "outputs": [],
   "source": [
    "dictator_df = altruism_df[altruism_df['Treatment'] == 'Dict']\n",
    "dictator_outcomes = dictator_df['decision']"
   ]
  },
  {
   "cell_type": "code",
   "execution_count": 79,
   "metadata": {},
   "outputs": [],
   "source": [
    "lie_df = altruism_df[altruism_df['Treatment'] == 'Lie']\n",
    "lying_outcomes = lie_df['decision']"
   ]
  },
  {
   "cell_type": "markdown",
   "metadata": {},
   "source": [
    "## Dictator and Lying-Dictator Mixture "
   ]
  },
  {
   "cell_type": "markdown",
   "metadata": {},
   "source": [
    "### Multi-Nomial Component Distributions"
   ]
  },
  {
   "cell_type": "code",
   "execution_count": 80,
   "metadata": {},
   "outputs": [],
   "source": [
    "def multinomial_prob(probs, outcome):\n",
    "    return probs[outcome-1]  # outcome is 1-based index, Python uses 0-based\n",
    "\n",
    "def uniform_prob():\n",
    "    return 1/5\n"
   ]
  },
  {
   "cell_type": "markdown",
   "metadata": {},
   "source": [
    "### Likelihood Function"
   ]
  },
  {
   "cell_type": "markdown",
   "metadata": {},
   "source": [
    "log-likelihood by summing the probabilities of observed outcomes."
   ]
  },
  {
   "cell_type": "code",
   "execution_count": 81,
   "metadata": {},
   "outputs": [],
   "source": [
    "def likelihood(params, outcomes_dictator, outcomes_lying):\n",
    "    alpha = params[0]\n",
    "    probs_d = params[1:6]  # Probabilities for F_{D}\n",
    "    probs_l = params[6:11] # Probabilities for F_{L}\n",
    "\n",
    "    ll_dictator = np.sum(np.log([multinomial_prob(probs_d, x) for x in outcomes_dictator]))\n",
    "    ll_lying = np.sum(np.log([alpha * multinomial_prob(probs_l, x) + (1 - alpha) * uniform_prob() for x in outcomes_lying]))\n",
    "\n",
    "    return -(ll_dictator + ll_lying)  # Negative since using the minimize function from scipy.stats\n"
   ]
  },
  {
   "cell_type": "markdown",
   "metadata": {},
   "source": [
    "### Optimization"
   ]
  },
  {
   "cell_type": "code",
   "execution_count": 82,
   "metadata": {},
   "outputs": [
    {
     "name": "stderr",
     "output_type": "stream",
     "text": [
      "/var/folders/ry/bf84d3cd54jctn_cwy_5666m0000gn/T/ipykernel_96996/1715454999.py:6: RuntimeWarning: divide by zero encountered in log\n",
      "  ll_dictator = np.sum(np.log([multinomial_prob(probs_d, x) for x in outcomes_dictator]))\n",
      "/var/folders/ry/bf84d3cd54jctn_cwy_5666m0000gn/T/ipykernel_96996/1715454999.py:7: RuntimeWarning: divide by zero encountered in log\n",
      "  ll_lying = np.sum(np.log([alpha * multinomial_prob(probs_l, x) + (1 - alpha) * uniform_prob() for x in outcomes_lying]))\n"
     ]
    }
   ],
   "source": [
    "initial_guess = [0.5] + [1/5]*5 + [1/5]*5  # Initialize alpha and probabilities\n",
    "bounds = [(0, 1)] + [(0, 1)]*10\n",
    "constraints = ({'type': 'eq', 'fun': lambda x: sum(x[1:6]) - 1},   # Ensure probabilities sum to 1\n",
    "               {'type': 'eq', 'fun': lambda x: sum(x[6:11]) - 1})\n",
    "\n",
    "result = minimize(likelihood, initial_guess, args=(dictator_outcomes, lying_outcomes), bounds=bounds, constraints=constraints)"
   ]
  },
  {
   "cell_type": "code",
   "execution_count": 83,
   "metadata": {},
   "outputs": [
    {
     "name": "stdout",
     "output_type": "stream",
     "text": [
      "Optimized alpha: 0.7832092716781021\n",
      "Optimized probs for D: [0.3509643  0.2403852  0.37019333 0.02403272 0.01442446]\n",
      "Optimized probs for L: [0.28299848 0.2702293  0.28299514 0.09785206 0.06592502]\n"
     ]
    }
   ],
   "source": [
    "print('Optimized alpha:', result.x[0])\n",
    "print('Optimized probs for D:', result.x[1:6])\n",
    "print('Optimized probs for L:', result.x[6:11])"
   ]
  },
  {
   "cell_type": "markdown",
   "metadata": {},
   "source": [
    "### Preventing Zero-Division Error"
   ]
  },
  {
   "cell_type": "code",
   "execution_count": 84,
   "metadata": {},
   "outputs": [],
   "source": [
    "# Define the modified likelihood function with epsilon to prevent log(0) errors\n",
    "def likelihood_with_epsilon(params, outcomes_dictator, outcomes_lying, eps=1e-8):\n",
    "    alpha = params[0]\n",
    "    probs_d = params[1:6]  # Probabilities for F_{D}\n",
    "    probs_l = params[6:11] # Probabilities for F_{L}\n",
    "\n",
    "    # Add epsilon to the probabilities to prevent log(0)\n",
    "    ll_dictator = np.sum(np.log([multinomial_prob(probs_d, x) + eps for x in outcomes_dictator]))\n",
    "    ll_lying = np.sum(np.log([alpha * (multinomial_prob(probs_l, x) + eps) + (1 - alpha) * (uniform_prob() + eps) for x in outcomes_lying]))\n",
    "\n",
    "    return -(ll_dictator + ll_lying)  # Negative since using the minimize function from scipy.stats"
   ]
  },
  {
   "cell_type": "code",
   "execution_count": 98,
   "metadata": {},
   "outputs": [
    {
     "data": {
      "text/plain": [
       "True"
      ]
     },
     "execution_count": 98,
     "metadata": {},
     "output_type": "execute_result"
    }
   ],
   "source": [
    "# Set the epsilon value\n",
    "epsilon = 1e-8\n",
    "\n",
    "# Modify the bounds to include epsilon to ensure probabilities cannot be exactly 0\n",
    "bounds_with_epsilon = [(0, 1)] + [(epsilon, 1)]*10\n",
    "\n",
    "# Redefine the constraints to ensure that the probabilities sum up to 1\n",
    "constraints_with_epsilon = [\n",
    "    {'type': 'eq', 'fun': lambda x: sum(x[1:6]) - 1},\n",
    "    {'type': 'eq', 'fun': lambda x: sum(x[6:11]) - 1}\n",
    "]\n",
    "\n",
    "# Use the initial guess that ensures all probabilities are above epsilon\n",
    "initial_guess_with_epsilon = [0.5] + [1/5]*5 + [1/5]*5\n",
    "\n",
    "# Run the optimization with the modified likelihood function and new bounds\n",
    "result_with_epsilon = minimize(likelihood_with_epsilon, initial_guess_with_epsilon, \n",
    "                               args=(dictator_outcomes, lying_outcomes, epsilon), \n",
    "                               bounds=bounds_with_epsilon, \n",
    "                               constraints=constraints_with_epsilon)\n",
    "\n",
    "\n",
    "optimized_alpha = result_with_epsilon.x[0]\n",
    "optimized_probs_d = result_with_epsilon.x[1:6]\n",
    "optimized_probs_l = result_with_epsilon.x[6:11]\n",
    "\n",
    "result_with_epsilon.success"
   ]
  },
  {
   "cell_type": "code",
   "execution_count": 99,
   "metadata": {},
   "outputs": [
    {
     "name": "stdout",
     "output_type": "stream",
     "text": [
      "Optimized Alpha: 0.7359111945445413\n",
      "Optimized probabilities for the Dictator Game: [0.3509658  0.2403865  0.37019148 0.02403229 0.01442394]\n",
      "Optimized probabilities for the Lying-Dictator Game: [0.28832671 0.27473969 0.28832708 0.09128992 0.0573166 ]\n"
     ]
    }
   ],
   "source": [
    "print('Optimized Alpha:', optimized_alpha)\n",
    "print('Optimized probabilities for the Dictator Game:', optimized_probs_d)\n",
    "print('Optimized probabilities for the Lying-Dictator Game:', optimized_probs_l)"
   ]
  },
  {
   "cell_type": "markdown",
   "metadata": {},
   "source": [
    "## Dictator and Lying-Dictator Mixture including Dictator and Receiver Locations (University affiliations)"
   ]
  },
  {
   "cell_type": "markdown",
   "metadata": {},
   "source": [
    "### Prepare data for the more complex model"
   ]
  },
  {
   "cell_type": "code",
   "execution_count": 87,
   "metadata": {},
   "outputs": [
    {
     "data": {
      "text/html": [
       "<div>\n",
       "<style scoped>\n",
       "    .dataframe tbody tr th:only-of-type {\n",
       "        vertical-align: middle;\n",
       "    }\n",
       "\n",
       "    .dataframe tbody tr th {\n",
       "        vertical-align: top;\n",
       "    }\n",
       "\n",
       "    .dataframe thead th {\n",
       "        text-align: right;\n",
       "    }\n",
       "</style>\n",
       "<table border=\"1\" class=\"dataframe\">\n",
       "  <thead>\n",
       "    <tr style=\"text-align: right;\">\n",
       "      <th></th>\n",
       "      <th>decision</th>\n",
       "      <th>Treatment</th>\n",
       "      <th>Location</th>\n",
       "      <th>Partner</th>\n",
       "    </tr>\n",
       "  </thead>\n",
       "  <tbody>\n",
       "    <tr>\n",
       "      <th>0</th>\n",
       "      <td>1</td>\n",
       "      <td>D</td>\n",
       "      <td>C</td>\n",
       "      <td>C</td>\n",
       "    </tr>\n",
       "    <tr>\n",
       "      <th>1</th>\n",
       "      <td>1</td>\n",
       "      <td>D</td>\n",
       "      <td>C</td>\n",
       "      <td>C</td>\n",
       "    </tr>\n",
       "    <tr>\n",
       "      <th>2</th>\n",
       "      <td>3</td>\n",
       "      <td>D</td>\n",
       "      <td>C</td>\n",
       "      <td>C</td>\n",
       "    </tr>\n",
       "    <tr>\n",
       "      <th>3</th>\n",
       "      <td>1</td>\n",
       "      <td>L</td>\n",
       "      <td>C</td>\n",
       "      <td>C</td>\n",
       "    </tr>\n",
       "    <tr>\n",
       "      <th>4</th>\n",
       "      <td>1</td>\n",
       "      <td>L</td>\n",
       "      <td>C</td>\n",
       "      <td>C</td>\n",
       "    </tr>\n",
       "  </tbody>\n",
       "</table>\n",
       "</div>"
      ],
      "text/plain": [
       "   decision Treatment Location Partner\n",
       "0         1         D        C       C\n",
       "1         1         D        C       C\n",
       "2         3         D        C       C\n",
       "3         1         L        C       C\n",
       "4         1         L        C       C"
      ]
     },
     "execution_count": 87,
     "metadata": {},
     "output_type": "execute_result"
    }
   ],
   "source": [
    "# Recoding the 'Treatment', 'Location', and 'Partner' columns\n",
    "altruism_df['Treatment'] = altruism_df['Treatment'].map({'Dict': 'D', 'Lie': 'L'})\n",
    "altruism_df['Location'] = altruism_df['Location'].map({'Chapman': 'C', 'Wuhan': 'W'})\n",
    "altruism_df['Partner'] = altruism_df['Partner'].map({'Chapman': 'C', 'Wuhan': 'W'})\n",
    "\n",
    "# Extracting the relevant columns for the mixture model\n",
    "data_for_model = altruism_df[['decision', 'Treatment', 'Location', 'Partner']]\n",
    "\n",
    "# Preview the modified data_for_model DataFrame\n",
    "data_for_model.head()"
   ]
  },
  {
   "cell_type": "markdown",
   "metadata": {},
   "source": [
    "### Distributions"
   ]
  },
  {
   "cell_type": "markdown",
   "metadata": {},
   "source": [
    "same as previous"
   ]
  },
  {
   "cell_type": "markdown",
   "metadata": {},
   "source": [
    "### Likelihood Function"
   ]
  },
  {
   "cell_type": "code",
   "execution_count": 88,
   "metadata": {},
   "outputs": [],
   "source": [
    "# Create a dictionary mapping (S, T) to probability slices as defined by ''Treatment', 'Partner', and 'Location'\n",
    "prob_indices = {\n",
    "    ('D', 'C', 'C'): slice(1, 6),\n",
    "    ('D', 'C', 'W'): slice(6, 11),\n",
    "    ('D', 'W', 'C'): slice(11, 16),\n",
    "    ('D', 'W', 'W'): slice(16, 21),\n",
    "    ('L', 'C', 'C'): slice(21, 26),\n",
    "    ('L', 'C', 'W'): slice(26, 31),\n",
    "    ('L', 'W', 'C'): slice(31, 36),\n",
    "    ('L', 'W', 'W'): slice(36, 41),\n",
    "}"
   ]
  },
  {
   "cell_type": "code",
   "execution_count": 89,
   "metadata": {},
   "outputs": [],
   "source": [
    "def likelihood_complex(params, data):\n",
    "    alpha = params[0]\n",
    "    ll = 0\n",
    "    for index, row in data.iterrows():\n",
    "        probs = params[prob_indices[(row['Treatment'], row['Location'], row['Partner'])]]\n",
    "        if row['Treatment'] == 'D':\n",
    "            ll += np.log(multinomial_prob(probs, row['decision']))\n",
    "        elif row['Treatment'] == 'L':\n",
    "            ll += np.log(alpha * multinomial_prob(probs, row['decision']) + (1 - alpha) * uniform_prob())\n",
    "    return -ll  # Minimize the negative log-likelihood"
   ]
  },
  {
   "cell_type": "markdown",
   "metadata": {},
   "source": [
    "### Optimization"
   ]
  },
  {
   "cell_type": "code",
   "execution_count": 90,
   "metadata": {},
   "outputs": [],
   "source": [
    "constraints = [\n",
    "    {'type': 'eq', 'fun': lambda x: sum(x[prob_indices[('D', 'C', 'C')]]) - 1},\n",
    "    {'type': 'eq', 'fun': lambda x: sum(x[prob_indices[('D', 'C', 'W')]]) - 1},\n",
    "    {'type': 'eq', 'fun': lambda x: sum(x[prob_indices[('D', 'W', 'C')]]) - 1},\n",
    "    {'type': 'eq', 'fun': lambda x: sum(x[prob_indices[('D', 'W', 'W')]]) - 1},\n",
    "    {'type': 'eq', 'fun': lambda x: sum(x[prob_indices[('L', 'C', 'C')]]) - 1},\n",
    "    {'type': 'eq', 'fun': lambda x: sum(x[prob_indices[('L', 'C', 'W')]]) - 1},\n",
    "    {'type': 'eq', 'fun': lambda x: sum(x[prob_indices[('L', 'W', 'C')]]) - 1},\n",
    "    {'type': 'eq', 'fun': lambda x: sum(x[prob_indices[('L', 'W', 'W')]]) - 1},\n",
    "]"
   ]
  },
  {
   "cell_type": "code",
   "execution_count": 91,
   "metadata": {},
   "outputs": [
    {
     "name": "stderr",
     "output_type": "stream",
     "text": [
      "/var/folders/ry/bf84d3cd54jctn_cwy_5666m0000gn/T/ipykernel_96996/2451862824.py:7: RuntimeWarning: divide by zero encountered in log\n",
      "  ll += np.log(multinomial_prob(probs, row['decision']))\n",
      "/var/folders/ry/bf84d3cd54jctn_cwy_5666m0000gn/T/ipykernel_96996/2451862824.py:9: RuntimeWarning: divide by zero encountered in log\n",
      "  ll += np.log(alpha * multinomial_prob(probs, row['decision']) + (1 - alpha) * uniform_prob())\n"
     ]
    },
    {
     "name": "stdout",
     "output_type": "stream",
     "text": [
      "Optimization terminated successfully    (Exit mode 0)\n",
      "            Current function value: 543.8944012119003\n",
      "            Iterations: 51\n",
      "            Function evaluations: 2194\n",
      "            Gradient evaluations: 51\n"
     ]
    },
    {
     "data": {
      "text/plain": [
       "(array([0.88267003, 0.37038181, 0.1851847 , 0.40739729, 0.03703619,\n",
       "        0.        , 0.3333412 , 0.2222237 , 0.37035952, 0.03703725,\n",
       "        0.03703833, 0.33333817, 0.2941061 , 0.33334135, 0.01960764,\n",
       "        0.01960674, 0.3673515 , 0.26529949, 0.36734901, 0.        ,\n",
       "        0.        , 0.22774729, 0.34334688, 0.11214202, 0.18150411,\n",
       "        0.1352597 , 0.18150089, 0.25086599, 0.34334836, 0.1352653 ,\n",
       "        0.08901947, 0.35105909, 0.13863112, 0.46907146, 0.02061927,\n",
       "        0.02061906, 0.33007582, 0.30910057, 0.1832128 , 0.09929432,\n",
       "        0.07831649]),\n",
       " True)"
      ]
     },
     "execution_count": 91,
     "metadata": {},
     "output_type": "execute_result"
    }
   ],
   "source": [
    "# Set up the optimization\n",
    "initial_guess = [0.5] + [1/5]*40  # alpha plus eight sets of probabilities for all 'Treatment', 'Location', and 'Partner' combinations\n",
    "bounds = [(0, 1)] + [(0, 1)]*40\n",
    "\n",
    "# Run the optimization\n",
    "result = minimize(likelihood_complex, initial_guess, args=(data_for_model,), bounds=bounds, constraints=constraints, options={'disp': True})\n",
    "\n",
    "# Optimization output\n",
    "result.x, result.success"
   ]
  },
  {
   "cell_type": "code",
   "execution_count": 92,
   "metadata": {},
   "outputs": [
    {
     "name": "stdout",
     "output_type": "stream",
     "text": [
      "Optimized alpha: 0.8827\n",
      "Optimized probabilities for D_CC: [0.3704 0.1852 0.4074 0.037  0.    ]\n",
      "Optimized probabilities for D_CW: [0.3333 0.2222 0.3704 0.037  0.037 ]\n",
      "Optimized probabilities for D_WC: [0.3333 0.2941 0.3333 0.0196 0.0196]\n",
      "Optimized probabilities for D_WW: [0.3674 0.2653 0.3673 0.     0.    ]\n",
      "Optimized probabilities for L_CC: [0.2277 0.3433 0.1121 0.1815 0.1353]\n",
      "Optimized probabilities for L_CW: [0.1815 0.2509 0.3433 0.1353 0.089 ]\n",
      "Optimized probabilities for L_WC: [0.3511 0.1386 0.4691 0.0206 0.0206]\n",
      "Optimized probabilities for L_WW: [0.3301 0.3091 0.1832 0.0993 0.0783]\n",
      "\n"
     ]
    }
   ],
   "source": [
    "# Results\n",
    "optimized_parameters = np.array(\n",
    "    [0.88267003, 0.37038181, 0.1851847 , 0.40739729, 0.03703619,\n",
    "        0.        , 0.3333412 , 0.2222237 , 0.37035952, 0.03703725,\n",
    "        0.03703833, 0.33333817, 0.2941061 , 0.33334135, 0.01960764,\n",
    "        0.01960674, 0.3673515 , 0.26529949, 0.36734901, 0.        ,\n",
    "        0.        , 0.22774729, 0.34334688, 0.11214202, 0.18150411,\n",
    "        0.1352597 , 0.18150089, 0.25086599, 0.34334836, 0.1352653 ,\n",
    "        0.08901947, 0.35105909, 0.13863112, 0.46907146, 0.02061927,\n",
    "        0.02061906, 0.33007582, 0.30910057, 0.1832128 , 0.09929432,\n",
    "        0.07831649\n",
    "        ]\n",
    "        )\n",
    "\n",
    "# Alpha\n",
    "optimized_alpha = optimized_parameters[0]\n",
    "\n",
    "# Probability mapping based on probability slices\n",
    "prob_mapping = {\n",
    "    'D_CC': optimized_parameters[1:6],\n",
    "    'D_CW': optimized_parameters[6:11],\n",
    "    'D_WC': optimized_parameters[11:16],\n",
    "    'D_WW': optimized_parameters[16:21],\n",
    "    'L_CC': optimized_parameters[21:26],\n",
    "    'L_CW': optimized_parameters[26:31],\n",
    "    'L_WC': optimized_parameters[31:36],\n",
    "    'L_WW': optimized_parameters[36:41],\n",
    "}\n",
    "\n",
    "# Formatted Print\n",
    "output = f\"Optimized alpha: {optimized_alpha:.4f}\\n\"\n",
    "for treatment_location, probs in prob_mapping.items():\n",
    "    output += f\"Optimized probabilities for {treatment_location}: {probs.round(4)}\\n\"\n",
    "\n",
    "print(output)"
   ]
  },
  {
   "cell_type": "markdown",
   "metadata": {},
   "source": [
    "### Removing divide by zero possibility"
   ]
  },
  {
   "cell_type": "code",
   "execution_count": 93,
   "metadata": {},
   "outputs": [],
   "source": [
    "# Adjust the bounds\n",
    "eps = 1e-8\n",
    "bounds = [(0, 1)] + [(eps, 1)]*40  # Ensure probabilities cannot be exactly 0, prevent log(0)\n",
    "\n",
    "prob_sum = 1 - 5 * eps  # Adjust for the minimum value epsilon\n",
    "\n",
    "constraints_with_epsilon = [\n",
    "    {'type': 'eq', 'fun': lambda x: sum(x[prob_indices[('D', 'C', 'C')]]) - prob_sum},\n",
    "    {'type': 'eq', 'fun': lambda x: sum(x[prob_indices[('D', 'C', 'W')]]) - prob_sum},\n",
    "    {'type': 'eq', 'fun': lambda x: sum(x[prob_indices[('D', 'W', 'C')]]) - prob_sum},\n",
    "    {'type': 'eq', 'fun': lambda x: sum(x[prob_indices[('D', 'W', 'W')]]) - prob_sum},\n",
    "    {'type': 'eq', 'fun': lambda x: sum(x[prob_indices[('L', 'C', 'C')]]) - prob_sum},\n",
    "    {'type': 'eq', 'fun': lambda x: sum(x[prob_indices[('L', 'C', 'W')]]) - prob_sum},\n",
    "    {'type': 'eq', 'fun': lambda x: sum(x[prob_indices[('L', 'W', 'C')]]) - prob_sum},\n",
    "    {'type': 'eq', 'fun': lambda x: sum(x[prob_indices[('L', 'W', 'W')]]) - prob_sum},\n",
    "]\n",
    "\n"
   ]
  },
  {
   "cell_type": "code",
   "execution_count": 94,
   "metadata": {},
   "outputs": [],
   "source": [
    "def likelihood_debug(params, data):\n",
    "    alpha = params[0]\n",
    "    ll = 0\n",
    "    for index, row in data.iterrows():\n",
    "        probs = params[prob_indices[(row['Treatment'], row['Location'], row['Partner'])]]\n",
    "        outcome_prob = multinomial_prob(probs, row['decision'])\n",
    "        if row['Treatment'] == 'D':\n",
    "            # Add an epsilon to the outcome probability to avoid log(0)\n",
    "            ll += np.log(outcome_prob + eps)\n",
    "        elif row['Treatment'] == 'L':\n",
    "            # Add an epsilon to the mixture probability to avoid log(0)\n",
    "            ll += np.log(alpha * outcome_prob + (1 - alpha) * uniform_prob() + eps)\n",
    "    return -ll  # Minimize the negative log-likelihood"
   ]
  },
  {
   "cell_type": "code",
   "execution_count": 95,
   "metadata": {},
   "outputs": [
    {
     "name": "stderr",
     "output_type": "stream",
     "text": [
      "/Users/aaronberman/opt/anaconda3/envs/MGPGG_DA/lib/python3.9/site-packages/scipy/optimize/_optimize.py:353: RuntimeWarning: Values in x were outside bounds during a minimize step, clipping to bounds\n",
      "  warnings.warn(\"Values in x were outside bounds during a \"\n"
     ]
    },
    {
     "name": "stdout",
     "output_type": "stream",
     "text": [
      "Optimization terminated successfully    (Exit mode 0)\n",
      "            Current function value: 543.8944037661754\n",
      "            Iterations: 49\n",
      "            Function evaluations: 2112\n",
      "            Gradient evaluations: 49\n"
     ]
    },
    {
     "data": {
      "text/plain": [
       "(array([0.91598148, 0.37038659, 0.18518655, 0.40738301, 0.0370438 ,\n",
       "        0.00000001, 0.33334934, 0.22221989, 0.37035954, 0.03703171,\n",
       "        0.03703946, 0.33335199, 0.29409428, 0.33334098, 0.01960674,\n",
       "        0.01960596, 0.36735411, 0.26529096, 0.36735486, 0.00000001,\n",
       "        0.00000001, 0.22672367, 0.33813303, 0.1153474 , 0.18217929,\n",
       "        0.13761656, 0.18217374, 0.2490276 , 0.33813477, 0.13761281,\n",
       "        0.09305104, 0.34555923, 0.1408579 , 0.45930226, 0.02714103,\n",
       "        0.02713953, 0.32534037, 0.30512554, 0.18383243, 0.10297145,\n",
       "        0.08273016]),\n",
       " True)"
      ]
     },
     "execution_count": 95,
     "metadata": {},
     "output_type": "execute_result"
    }
   ],
   "source": [
    "# Set up the optimization\n",
    "initial_guess = [0.5] + [1/5]*40  # alpha plus eight sets of probabilities for all 'Treatment', 'Location', and 'Partner' combinations\n",
    "\n",
    "# Run the optimization\n",
    "result = minimize(likelihood_debug, initial_guess, args=(data_for_model,), bounds=bounds, constraints=constraints_with_epsilon, options={'disp': True})\n",
    "\n",
    "# Optimization output\n",
    "result.x, result.success"
   ]
  },
  {
   "cell_type": "code",
   "execution_count": 96,
   "metadata": {},
   "outputs": [
    {
     "name": "stdout",
     "output_type": "stream",
     "text": [
      "Optimized alpha: 0.9160\n",
      "Optimized probabilities for D_CC: [0.3704 0.1852 0.4074 0.037  0.    ]\n",
      "Optimized probabilities for D_CW: [0.3333 0.2222 0.3704 0.037  0.037 ]\n",
      "Optimized probabilities for D_WC: [0.3334 0.2941 0.3333 0.0196 0.0196]\n",
      "Optimized probabilities for D_WW: [0.3674 0.2653 0.3674 0.     0.    ]\n",
      "Optimized probabilities for L_CC: [0.2267 0.3381 0.1153 0.1822 0.1376]\n",
      "Optimized probabilities for L_CW: [0.1822 0.249  0.3381 0.1376 0.0931]\n",
      "Optimized probabilities for L_WC: [0.3456 0.1409 0.4593 0.0271 0.0271]\n",
      "Optimized probabilities for L_WW: [0.3253 0.3051 0.1838 0.103  0.0827]\n",
      "\n"
     ]
    }
   ],
   "source": [
    "# Results\n",
    "optimized_parameters_epsilon = np.array([\n",
    "    0.91598148, 0.37038659, 0.18518655, 0.40738301, 0.0370438,\n",
    "    0.00000001, 0.33334934, 0.22221989, 0.37035954, 0.03703171,\n",
    "    0.03703946, 0.33335199, 0.29409428, 0.33334098, 0.01960674,\n",
    "    0.01960596, 0.36735411, 0.26529096, 0.36735486, 0.00000001,\n",
    "    0.00000001, 0.22672367, 0.33813303, 0.1153474 , 0.18217929,\n",
    "    0.13761656, 0.18217374, 0.2490276 , 0.33813477, 0.13761281,\n",
    "    0.09305104, 0.34555923, 0.1408579 , 0.45930226, 0.02714103,\n",
    "    0.02713953, 0.32534037, 0.30512554, 0.18383243, 0.10297145,\n",
    "    0.08273016\n",
    "])\n",
    "\n",
    "# Alpha\n",
    "optimized_alpha_epsilon = optimized_parameters_epsilon[0]\n",
    "\n",
    "# Probability mapping based on probability slices\n",
    "prob_mapping_epsilon = {\n",
    "    'D_CC': optimized_parameters_epsilon[1:6],\n",
    "    'D_CW': optimized_parameters_epsilon[6:11],\n",
    "    'D_WC': optimized_parameters_epsilon[11:16],\n",
    "    'D_WW': optimized_parameters_epsilon[16:21],\n",
    "    'L_CC': optimized_parameters_epsilon[21:26],\n",
    "    'L_CW': optimized_parameters_epsilon[26:31],\n",
    "    'L_WC': optimized_parameters_epsilon[31:36],\n",
    "    'L_WW': optimized_parameters_epsilon[36:41],\n",
    "}\n",
    "\n",
    "# Formatted print\n",
    "output = f\"Optimized alpha: {optimized_alpha_epsilon:.4f}\\n\"\n",
    "for treatment_location, probs in prob_mapping_epsilon.items():\n",
    "    output += f\"Optimized probabilities for {treatment_location}: {probs.round(4)}\\n\"\n",
    "\n",
    "print(output)\n"
   ]
  }
 ],
 "metadata": {
  "kernelspec": {
   "display_name": "MGPGG_DA",
   "language": "python",
   "name": "python3"
  },
  "language_info": {
   "codemirror_mode": {
    "name": "ipython",
    "version": 3
   },
   "file_extension": ".py",
   "mimetype": "text/x-python",
   "name": "python",
   "nbconvert_exporter": "python",
   "pygments_lexer": "ipython3",
   "version": "3.9.17"
  }
 },
 "nbformat": 4,
 "nbformat_minor": 2
}
