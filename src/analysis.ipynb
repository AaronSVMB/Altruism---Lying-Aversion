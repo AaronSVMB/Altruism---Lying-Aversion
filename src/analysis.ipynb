{
 "cells": [
  {
   "cell_type": "markdown",
   "metadata": {},
   "source": [
    "# Analysis"
   ]
  },
  {
   "cell_type": "markdown",
   "metadata": {},
   "source": [
    "## Imports"
   ]
  },
  {
   "cell_type": "code",
   "execution_count": 1,
   "metadata": {},
   "outputs": [
    {
     "name": "stdout",
     "output_type": "stream",
     "text": [
      "Intel MKL WARNING: Support of Intel(R) Streaming SIMD Extensions 4.2 (Intel(R) SSE4.2) enabled only processors has been deprecated. Intel oneAPI Math Kernel Library 2025.0 will require Intel(R) Advanced Vector Extensions (Intel(R) AVX) instructions.\n",
      "Intel MKL WARNING: Support of Intel(R) Streaming SIMD Extensions 4.2 (Intel(R) SSE4.2) enabled only processors has been deprecated. Intel oneAPI Math Kernel Library 2025.0 will require Intel(R) Advanced Vector Extensions (Intel(R) AVX) instructions.\n"
     ]
    }
   ],
   "source": [
    "import pandas as pd\n",
    "import numpy as np"
   ]
  },
  {
   "cell_type": "code",
   "execution_count": 3,
   "metadata": {},
   "outputs": [],
   "source": [
    "import matplotlib.pyplot as plt\n",
    "from scipy import stats\n",
    "from scipy.stats import chi2_contingency\n",
    "from statsmodels.stats.multicomp import pairwise_tukeyhsd\n",
    "from scipy.stats import ks_2samp\n",
    "import itertools\n",
    "from scipy.stats import epps_singleton_2samp\n",
    "from scipy.stats import kstest\n",
    "from scipy.stats import chisquare\n",
    "from scipy.stats import brunnermunzel "
   ]
  },
  {
   "cell_type": "markdown",
   "metadata": {},
   "source": [
    "## Data Reading"
   ]
  },
  {
   "cell_type": "code",
   "execution_count": 3,
   "metadata": {},
   "outputs": [],
   "source": [
    "altruism_df = pd.read_csv('/Users/aaronberman/Desktop/Altruism & Lying Aversion/data/altruism_all_data_df.csv', index_col=0)"
   ]
  },
  {
   "cell_type": "markdown",
   "metadata": {},
   "source": [
    "## Data Cleaning"
   ]
  },
  {
   "cell_type": "code",
   "execution_count": 5,
   "metadata": {},
   "outputs": [
    {
     "data": {
      "text/plain": [
       "Index(['StartDate', 'EndDate', 'Status', 'Progress', 'Duration (in seconds)',\n",
       "       'Finished', 'RecordedDate', 'ResponseId', 'DistributionChannel',\n",
       "       'UserLanguage', 'Consent', 'TimerInstrucs_First Click',\n",
       "       'TimerInstrucs_Last Click', 'TimerInstrucs_Page Submit',\n",
       "       'TimerInstrucs_Click Count', 'TimerInstrucsCont_First Click',\n",
       "       'TimerInstrucsCont_Last Click', 'TimerInstrucsCont_Page Submit',\n",
       "       'TimerInstrucsCont_Click Count', 'Min Tokens', 'Max Tokens', 'SM',\n",
       "       'University', 'decision', 'nationality', 'gender',\n",
       "       'Big5 Gosling 2003_1', 'Big5 Gosling 2003_2', 'Big5 Gosling 2003_3',\n",
       "       'Big5 Gosling 2003_4', 'Big5 Gosling 2003_5', 'Big5 Gosling 2003_6',\n",
       "       'Big5 Gosling 2003_7', 'Big5 Gosling 2003_8', 'Big5 Gosling 2003_9',\n",
       "       'Big5 Gosling 2003_10', 'understand', 'Location', 'Total', 'Partner',\n",
       "       'session_id', 'recruiter_id', 'public_id', 'Role', 'Treatment', 'Wave',\n",
       "       'email'],\n",
       "      dtype='object')"
      ]
     },
     "execution_count": 5,
     "metadata": {},
     "output_type": "execute_result"
    }
   ],
   "source": [
    "# Look at all of the columns\n",
    "altruism_df.columns"
   ]
  },
  {
   "cell_type": "code",
   "execution_count": 6,
   "metadata": {},
   "outputs": [
    {
     "data": {
      "text/html": [
       "<div>\n",
       "<style scoped>\n",
       "    .dataframe tbody tr th:only-of-type {\n",
       "        vertical-align: middle;\n",
       "    }\n",
       "\n",
       "    .dataframe tbody tr th {\n",
       "        vertical-align: top;\n",
       "    }\n",
       "\n",
       "    .dataframe thead th {\n",
       "        text-align: right;\n",
       "    }\n",
       "</style>\n",
       "<table border=\"1\" class=\"dataframe\">\n",
       "  <thead>\n",
       "    <tr style=\"text-align: right;\">\n",
       "      <th></th>\n",
       "      <th>Duration (in seconds)</th>\n",
       "      <th>ResponseId</th>\n",
       "      <th>TimerInstrucs_First Click</th>\n",
       "      <th>TimerInstrucs_Last Click</th>\n",
       "      <th>TimerInstrucs_Page Submit</th>\n",
       "      <th>TimerInstrucs_Click Count</th>\n",
       "      <th>TimerInstrucsCont_First Click</th>\n",
       "      <th>TimerInstrucsCont_Last Click</th>\n",
       "      <th>TimerInstrucsCont_Page Submit</th>\n",
       "      <th>TimerInstrucsCont_Click Count</th>\n",
       "      <th>...</th>\n",
       "      <th>Big5 Gosling 2003_6</th>\n",
       "      <th>Big5 Gosling 2003_7</th>\n",
       "      <th>Big5 Gosling 2003_8</th>\n",
       "      <th>Big5 Gosling 2003_9</th>\n",
       "      <th>Big5 Gosling 2003_10</th>\n",
       "      <th>Location</th>\n",
       "      <th>Partner</th>\n",
       "      <th>Role</th>\n",
       "      <th>Treatment</th>\n",
       "      <th>Wave</th>\n",
       "    </tr>\n",
       "  </thead>\n",
       "  <tbody>\n",
       "    <tr>\n",
       "      <th>0</th>\n",
       "      <td>175</td>\n",
       "      <td>R_2dnBSOch8FIxEZw</td>\n",
       "      <td>0.000</td>\n",
       "      <td>0.000</td>\n",
       "      <td>16.090</td>\n",
       "      <td>0</td>\n",
       "      <td>0.000</td>\n",
       "      <td>0.000</td>\n",
       "      <td>45.761</td>\n",
       "      <td>0</td>\n",
       "      <td>...</td>\n",
       "      <td>Strongly disagree</td>\n",
       "      <td>Agree</td>\n",
       "      <td>Somewhat agree</td>\n",
       "      <td>Somewhat disagree</td>\n",
       "      <td>Neither agree nor disagree</td>\n",
       "      <td>Chapman</td>\n",
       "      <td>Chapman</td>\n",
       "      <td>Receiver</td>\n",
       "      <td>Dict</td>\n",
       "      <td>Pilot Alpha</td>\n",
       "    </tr>\n",
       "    <tr>\n",
       "      <th>1</th>\n",
       "      <td>231</td>\n",
       "      <td>R_5C9kXn6WX8LAMO9</td>\n",
       "      <td>1.649</td>\n",
       "      <td>17.399</td>\n",
       "      <td>24.032</td>\n",
       "      <td>8</td>\n",
       "      <td>1.635</td>\n",
       "      <td>52.793</td>\n",
       "      <td>54.056</td>\n",
       "      <td>10</td>\n",
       "      <td>...</td>\n",
       "      <td>Disagree</td>\n",
       "      <td>Agree</td>\n",
       "      <td>Disagree</td>\n",
       "      <td>Somewhat agree</td>\n",
       "      <td>Neither agree nor disagree</td>\n",
       "      <td>Chapman</td>\n",
       "      <td>Chapman</td>\n",
       "      <td>Dictator</td>\n",
       "      <td>Dict</td>\n",
       "      <td>Pilot Alpha</td>\n",
       "    </tr>\n",
       "    <tr>\n",
       "      <th>2</th>\n",
       "      <td>275</td>\n",
       "      <td>R_1McR7D8VVkSlWzD</td>\n",
       "      <td>0.000</td>\n",
       "      <td>0.000</td>\n",
       "      <td>24.256</td>\n",
       "      <td>0</td>\n",
       "      <td>2.626</td>\n",
       "      <td>59.270</td>\n",
       "      <td>63.027</td>\n",
       "      <td>34</td>\n",
       "      <td>...</td>\n",
       "      <td>Neither agree nor disagree</td>\n",
       "      <td>Agree</td>\n",
       "      <td>Somewhat agree</td>\n",
       "      <td>Neither agree nor disagree</td>\n",
       "      <td>Disagree</td>\n",
       "      <td>Chapman</td>\n",
       "      <td>Chapman</td>\n",
       "      <td>Receiver</td>\n",
       "      <td>Dict</td>\n",
       "      <td>Pilot Alpha</td>\n",
       "    </tr>\n",
       "    <tr>\n",
       "      <th>3</th>\n",
       "      <td>623</td>\n",
       "      <td>R_3hKcyMswBSRJIg1</td>\n",
       "      <td>21.301</td>\n",
       "      <td>101.764</td>\n",
       "      <td>104.107</td>\n",
       "      <td>18</td>\n",
       "      <td>3.592</td>\n",
       "      <td>291.842</td>\n",
       "      <td>294.647</td>\n",
       "      <td>42</td>\n",
       "      <td>...</td>\n",
       "      <td>Somewhat agree</td>\n",
       "      <td>Neither agree nor disagree</td>\n",
       "      <td>Neither agree nor disagree</td>\n",
       "      <td>Somewhat agree</td>\n",
       "      <td>Somewhat disagree</td>\n",
       "      <td>Chapman</td>\n",
       "      <td>Chapman</td>\n",
       "      <td>Receiver</td>\n",
       "      <td>Lie</td>\n",
       "      <td>Pilot Alpha</td>\n",
       "    </tr>\n",
       "    <tr>\n",
       "      <th>4</th>\n",
       "      <td>245</td>\n",
       "      <td>R_2gNGmHe9BDiJk1d</td>\n",
       "      <td>0.504</td>\n",
       "      <td>49.283</td>\n",
       "      <td>49.779</td>\n",
       "      <td>18</td>\n",
       "      <td>1.181</td>\n",
       "      <td>52.460</td>\n",
       "      <td>52.922</td>\n",
       "      <td>14</td>\n",
       "      <td>...</td>\n",
       "      <td>Somewhat disagree</td>\n",
       "      <td>Neither agree nor disagree</td>\n",
       "      <td>Disagree</td>\n",
       "      <td>Somewhat agree</td>\n",
       "      <td>Somewhat disagree</td>\n",
       "      <td>Chapman</td>\n",
       "      <td>Chapman</td>\n",
       "      <td>Dictator</td>\n",
       "      <td>Lie</td>\n",
       "      <td>Pilot Alpha</td>\n",
       "    </tr>\n",
       "    <tr>\n",
       "      <th>...</th>\n",
       "      <td>...</td>\n",
       "      <td>...</td>\n",
       "      <td>...</td>\n",
       "      <td>...</td>\n",
       "      <td>...</td>\n",
       "      <td>...</td>\n",
       "      <td>...</td>\n",
       "      <td>...</td>\n",
       "      <td>...</td>\n",
       "      <td>...</td>\n",
       "      <td>...</td>\n",
       "      <td>...</td>\n",
       "      <td>...</td>\n",
       "      <td>...</td>\n",
       "      <td>...</td>\n",
       "      <td>...</td>\n",
       "      <td>...</td>\n",
       "      <td>...</td>\n",
       "      <td>...</td>\n",
       "      <td>...</td>\n",
       "      <td>...</td>\n",
       "    </tr>\n",
       "    <tr>\n",
       "      <th>403</th>\n",
       "      <td>280</td>\n",
       "      <td>R_4qYtPlm5FvSsJih</td>\n",
       "      <td>0.908</td>\n",
       "      <td>18.396</td>\n",
       "      <td>19.302</td>\n",
       "      <td>22</td>\n",
       "      <td>2.751</td>\n",
       "      <td>47.689</td>\n",
       "      <td>48.524</td>\n",
       "      <td>29</td>\n",
       "      <td>...</td>\n",
       "      <td>Somewhat agree</td>\n",
       "      <td>Neither agree nor disagree</td>\n",
       "      <td>Agree</td>\n",
       "      <td>Somewhat agree</td>\n",
       "      <td>Strongly agree</td>\n",
       "      <td>Wuhan</td>\n",
       "      <td>Chapman</td>\n",
       "      <td>Receiver</td>\n",
       "      <td>Dict</td>\n",
       "      <td>Main Study</td>\n",
       "    </tr>\n",
       "    <tr>\n",
       "      <th>404</th>\n",
       "      <td>329</td>\n",
       "      <td>R_4O02Uf6eOLhj5Xb</td>\n",
       "      <td>3.321</td>\n",
       "      <td>27.101</td>\n",
       "      <td>28.921</td>\n",
       "      <td>17</td>\n",
       "      <td>1.516</td>\n",
       "      <td>104.441</td>\n",
       "      <td>104.802</td>\n",
       "      <td>41</td>\n",
       "      <td>...</td>\n",
       "      <td>Somewhat disagree</td>\n",
       "      <td>Agree</td>\n",
       "      <td>Somewhat agree</td>\n",
       "      <td>Somewhat agree</td>\n",
       "      <td>Somewhat agree</td>\n",
       "      <td>Wuhan</td>\n",
       "      <td>Wuhan</td>\n",
       "      <td>Dictator</td>\n",
       "      <td>Lie</td>\n",
       "      <td>Main Study</td>\n",
       "    </tr>\n",
       "    <tr>\n",
       "      <th>405</th>\n",
       "      <td>406</td>\n",
       "      <td>R_3p4nQ6rYo0JBeJr</td>\n",
       "      <td>0.752</td>\n",
       "      <td>21.789</td>\n",
       "      <td>23.179</td>\n",
       "      <td>16</td>\n",
       "      <td>5.271</td>\n",
       "      <td>71.705</td>\n",
       "      <td>72.933</td>\n",
       "      <td>29</td>\n",
       "      <td>...</td>\n",
       "      <td>Somewhat agree</td>\n",
       "      <td>Agree</td>\n",
       "      <td>Somewhat disagree</td>\n",
       "      <td>Somewhat agree</td>\n",
       "      <td>Agree</td>\n",
       "      <td>Wuhan</td>\n",
       "      <td>Wuhan</td>\n",
       "      <td>Receiver</td>\n",
       "      <td>Lie</td>\n",
       "      <td>Main Study</td>\n",
       "    </tr>\n",
       "    <tr>\n",
       "      <th>406</th>\n",
       "      <td>735</td>\n",
       "      <td>R_4CrXaNNffktNsoV</td>\n",
       "      <td>0.198</td>\n",
       "      <td>20.548</td>\n",
       "      <td>21.685</td>\n",
       "      <td>12</td>\n",
       "      <td>8.307</td>\n",
       "      <td>25.413</td>\n",
       "      <td>26.801</td>\n",
       "      <td>9</td>\n",
       "      <td>...</td>\n",
       "      <td>Somewhat agree</td>\n",
       "      <td>Agree</td>\n",
       "      <td>Somewhat disagree</td>\n",
       "      <td>Somewhat agree</td>\n",
       "      <td>Neither agree nor disagree</td>\n",
       "      <td>Wuhan</td>\n",
       "      <td>Chapman</td>\n",
       "      <td>Receiver</td>\n",
       "      <td>Dict</td>\n",
       "      <td>Main Study</td>\n",
       "    </tr>\n",
       "    <tr>\n",
       "      <th>407</th>\n",
       "      <td>600</td>\n",
       "      <td>R_2FFGnIsk3cXo8WB</td>\n",
       "      <td>1.736</td>\n",
       "      <td>43.541</td>\n",
       "      <td>51.032</td>\n",
       "      <td>9</td>\n",
       "      <td>5.808</td>\n",
       "      <td>35.499</td>\n",
       "      <td>41.326</td>\n",
       "      <td>11</td>\n",
       "      <td>...</td>\n",
       "      <td>Strongly disagree</td>\n",
       "      <td>Agree</td>\n",
       "      <td>Strongly disagree</td>\n",
       "      <td>Disagree</td>\n",
       "      <td>Neither agree nor disagree</td>\n",
       "      <td>Wuhan</td>\n",
       "      <td>Chapman</td>\n",
       "      <td>Dictator</td>\n",
       "      <td>Dict</td>\n",
       "      <td>Main Study</td>\n",
       "    </tr>\n",
       "  </tbody>\n",
       "</table>\n",
       "<p>408 rows × 28 columns</p>\n",
       "</div>"
      ],
      "text/plain": [
       "     Duration (in seconds)         ResponseId  TimerInstrucs_First Click  \\\n",
       "0                      175  R_2dnBSOch8FIxEZw                      0.000   \n",
       "1                      231  R_5C9kXn6WX8LAMO9                      1.649   \n",
       "2                      275  R_1McR7D8VVkSlWzD                      0.000   \n",
       "3                      623  R_3hKcyMswBSRJIg1                     21.301   \n",
       "4                      245  R_2gNGmHe9BDiJk1d                      0.504   \n",
       "..                     ...                ...                        ...   \n",
       "403                    280  R_4qYtPlm5FvSsJih                      0.908   \n",
       "404                    329  R_4O02Uf6eOLhj5Xb                      3.321   \n",
       "405                    406  R_3p4nQ6rYo0JBeJr                      0.752   \n",
       "406                    735  R_4CrXaNNffktNsoV                      0.198   \n",
       "407                    600  R_2FFGnIsk3cXo8WB                      1.736   \n",
       "\n",
       "     TimerInstrucs_Last Click  TimerInstrucs_Page Submit  \\\n",
       "0                       0.000                     16.090   \n",
       "1                      17.399                     24.032   \n",
       "2                       0.000                     24.256   \n",
       "3                     101.764                    104.107   \n",
       "4                      49.283                     49.779   \n",
       "..                        ...                        ...   \n",
       "403                    18.396                     19.302   \n",
       "404                    27.101                     28.921   \n",
       "405                    21.789                     23.179   \n",
       "406                    20.548                     21.685   \n",
       "407                    43.541                     51.032   \n",
       "\n",
       "     TimerInstrucs_Click Count  TimerInstrucsCont_First Click  \\\n",
       "0                            0                          0.000   \n",
       "1                            8                          1.635   \n",
       "2                            0                          2.626   \n",
       "3                           18                          3.592   \n",
       "4                           18                          1.181   \n",
       "..                         ...                            ...   \n",
       "403                         22                          2.751   \n",
       "404                         17                          1.516   \n",
       "405                         16                          5.271   \n",
       "406                         12                          8.307   \n",
       "407                          9                          5.808   \n",
       "\n",
       "     TimerInstrucsCont_Last Click  TimerInstrucsCont_Page Submit  \\\n",
       "0                           0.000                         45.761   \n",
       "1                          52.793                         54.056   \n",
       "2                          59.270                         63.027   \n",
       "3                         291.842                        294.647   \n",
       "4                          52.460                         52.922   \n",
       "..                            ...                            ...   \n",
       "403                        47.689                         48.524   \n",
       "404                       104.441                        104.802   \n",
       "405                        71.705                         72.933   \n",
       "406                        25.413                         26.801   \n",
       "407                        35.499                         41.326   \n",
       "\n",
       "     TimerInstrucsCont_Click Count  ...         Big5 Gosling 2003_6  \\\n",
       "0                                0  ...           Strongly disagree   \n",
       "1                               10  ...                    Disagree   \n",
       "2                               34  ...  Neither agree nor disagree   \n",
       "3                               42  ...              Somewhat agree   \n",
       "4                               14  ...           Somewhat disagree   \n",
       "..                             ...  ...                         ...   \n",
       "403                             29  ...              Somewhat agree   \n",
       "404                             41  ...           Somewhat disagree   \n",
       "405                             29  ...              Somewhat agree   \n",
       "406                              9  ...              Somewhat agree   \n",
       "407                             11  ...           Strongly disagree   \n",
       "\n",
       "            Big5 Gosling 2003_7         Big5 Gosling 2003_8  \\\n",
       "0                         Agree              Somewhat agree   \n",
       "1                         Agree                    Disagree   \n",
       "2                         Agree              Somewhat agree   \n",
       "3    Neither agree nor disagree  Neither agree nor disagree   \n",
       "4    Neither agree nor disagree                    Disagree   \n",
       "..                          ...                         ...   \n",
       "403  Neither agree nor disagree                       Agree   \n",
       "404                       Agree              Somewhat agree   \n",
       "405                       Agree           Somewhat disagree   \n",
       "406                       Agree           Somewhat disagree   \n",
       "407                       Agree           Strongly disagree   \n",
       "\n",
       "            Big5 Gosling 2003_9        Big5 Gosling 2003_10 Location  Partner  \\\n",
       "0             Somewhat disagree  Neither agree nor disagree  Chapman  Chapman   \n",
       "1                Somewhat agree  Neither agree nor disagree  Chapman  Chapman   \n",
       "2    Neither agree nor disagree                    Disagree  Chapman  Chapman   \n",
       "3                Somewhat agree           Somewhat disagree  Chapman  Chapman   \n",
       "4                Somewhat agree           Somewhat disagree  Chapman  Chapman   \n",
       "..                          ...                         ...      ...      ...   \n",
       "403              Somewhat agree              Strongly agree    Wuhan  Chapman   \n",
       "404              Somewhat agree              Somewhat agree    Wuhan    Wuhan   \n",
       "405              Somewhat agree                       Agree    Wuhan    Wuhan   \n",
       "406              Somewhat agree  Neither agree nor disagree    Wuhan  Chapman   \n",
       "407                    Disagree  Neither agree nor disagree    Wuhan  Chapman   \n",
       "\n",
       "         Role Treatment         Wave  \n",
       "0    Receiver      Dict  Pilot Alpha  \n",
       "1    Dictator      Dict  Pilot Alpha  \n",
       "2    Receiver      Dict  Pilot Alpha  \n",
       "3    Receiver       Lie  Pilot Alpha  \n",
       "4    Dictator       Lie  Pilot Alpha  \n",
       "..        ...       ...          ...  \n",
       "403  Receiver      Dict   Main Study  \n",
       "404  Dictator       Lie   Main Study  \n",
       "405  Receiver       Lie   Main Study  \n",
       "406  Receiver      Dict   Main Study  \n",
       "407  Dictator      Dict   Main Study  \n",
       "\n",
       "[408 rows x 28 columns]"
      ]
     },
     "execution_count": 6,
     "metadata": {},
     "output_type": "execute_result"
    }
   ],
   "source": [
    "# Remove columns that are unimportant to analysis\n",
    "columns_to_drop = ['StartDate', 'EndDate', 'Status', 'Progress', 'Finished', 'RecordedDate', 'DistributionChannel', 'UserLanguage',\n",
    "                   'Consent', 'Min Tokens', 'Max Tokens', 'SM', 'University', 'understand', 'session_id', 'recruiter_id', 'public_id',\n",
    "                   'email', 'Total']\n",
    "altruism_df = altruism_df.drop(columns_to_drop, axis=1)\n",
    "altruism_df"
   ]
  },
  {
   "cell_type": "markdown",
   "metadata": {},
   "source": [
    "## Summary Statistics"
   ]
  },
  {
   "cell_type": "markdown",
   "metadata": {},
   "source": [
    "### Chapman"
   ]
  },
  {
   "cell_type": "code",
   "execution_count": 28,
   "metadata": {},
   "outputs": [
    {
     "name": "stdout",
     "output_type": "stream",
     "text": [
      "Gender counts among Chapman participants:\n",
      " Female               142\n",
      "Male                  57\n",
      "Other                  4\n",
      "Prefer not to say      3\n",
      "Name: gender, dtype: int64\n",
      "\n",
      "Nationality counts among Chapman participants:\n",
      " American             186\n",
      "Other                 12\n",
      "Chinese                5\n",
      "Prefer not to say      3\n",
      "Name: nationality, dtype: int64\n",
      "\n",
      "Treatment counts among Chapman participants:\n",
      " Dict    108\n",
      "Lie      98\n",
      "Name: Treatment, dtype: int64\n",
      "\n",
      "Partner counts among Chapman participants:\n",
      " Chapman    103\n",
      "Wuhan      103\n",
      "Name: Partner, dtype: int64\n",
      "\\Decision counts among Chapman participants:\n",
      " 3    64\n",
      "1    58\n",
      "2    50\n",
      "4    20\n",
      "5    14\n",
      "Name: decision, dtype: int64\n"
     ]
    }
   ],
   "source": [
    "chapman_participants = altruism_df[altruism_df['Location'] == 'Chapman']\n",
    "\n",
    "# 'gender' counts\n",
    "gender_counts_chapman = chapman_participants['gender'].value_counts()\n",
    "\n",
    "# 'nationality' counts\n",
    "nationality_counts_chapman = chapman_participants['nationality'].value_counts()\n",
    "\n",
    "# 'Treatment' counts\n",
    "treatment_counts_chapman = chapman_participants['Treatment'].value_counts()\n",
    "\n",
    "# 'Partner' counts\n",
    "partner_counts_chapman = chapman_participants['Partner'].value_counts()\n",
    "\n",
    "# 'decision' counts\n",
    "decision_counts_chapman = chapman_participants['decision'].value_counts()\n",
    "\n",
    "print(\"Gender counts among Chapman participants:\\n\", gender_counts_chapman)\n",
    "print(\"\\nNationality counts among Chapman participants:\\n\", nationality_counts_chapman)\n",
    "print(\"\\nTreatment counts among Chapman participants:\\n\", treatment_counts_chapman)\n",
    "print(\"\\nPartner counts among Chapman participants:\\n\", partner_counts_chapman)\n",
    "print(\"\\Decision counts among Chapman participants:\\n\", decision_counts_chapman)"
   ]
  },
  {
   "cell_type": "code",
   "execution_count": null,
   "metadata": {},
   "outputs": [],
   "source": [
    "# Footnote regarding the presence of Chinese nationals in the CU dataset.  They might have different responses due to different socialization (assuming they were socialized in China)"
   ]
  },
  {
   "cell_type": "code",
   "execution_count": 30,
   "metadata": {},
   "outputs": [
    {
     "name": "stdout",
     "output_type": "stream",
     "text": [
      "Mean Duration (in seconds): 869.9757281553398\n",
      "Standard Deviation of Duration (in seconds): 3128.26883854909\n",
      "Median Duration (in seconds): 244.0\n"
     ]
    }
   ],
   "source": [
    "# Response time consideration\n",
    "mean_duration_chapman = chapman_participants['Duration (in seconds)'].mean()\n",
    "std_duration_chapman = chapman_participants['Duration (in seconds)'].std()\n",
    "median_duration_chapman = chapman_participants['Duration (in seconds)'].median()\n",
    "\n",
    "print(f\"Mean Duration (in seconds): {mean_duration_chapman}\")\n",
    "print(f\"Standard Deviation of Duration (in seconds): {std_duration_chapman}\")\n",
    "print(f\"Median Duration (in seconds): {median_duration_chapman}\")"
   ]
  },
  {
   "cell_type": "markdown",
   "metadata": {},
   "source": [
    "### Wuhan"
   ]
  },
  {
   "cell_type": "code",
   "execution_count": 29,
   "metadata": {},
   "outputs": [
    {
     "name": "stdout",
     "output_type": "stream",
     "text": [
      "Gender counts among Wuhan participants:\n",
      " Female               131\n",
      "Male                  65\n",
      "Prefer not to say      6\n",
      "Name: gender, dtype: int64\n",
      "\n",
      "Nationality counts among Wuhan participants:\n",
      " Chinese              200\n",
      "Prefer not to say      2\n",
      "Name: nationality, dtype: int64\n",
      "\n",
      "Treatment counts among Wuhan participants:\n",
      " Lie     102\n",
      "Dict    100\n",
      "Name: Treatment, dtype: int64\n",
      "\n",
      "Partner counts among Wuhan participants:\n",
      " Wuhan      103\n",
      "Chapman     99\n",
      "Name: Partner, dtype: int64\n",
      "\\Decision counts among Wuhan participants:\n",
      " 1    68\n",
      "3    66\n",
      "2    51\n",
      "4     9\n",
      "5     8\n",
      "Name: decision, dtype: int64\n"
     ]
    }
   ],
   "source": [
    "wuhan_participants = altruism_df[altruism_df['Location'] == 'Wuhan']\n",
    "\n",
    "# 'gender' counts\n",
    "gender_counts_wuhan = wuhan_participants['gender'].value_counts()\n",
    "\n",
    "# 'nationality' counts\n",
    "nationality_counts_wuhan = wuhan_participants['nationality'].value_counts()\n",
    "\n",
    "# 'Treatment' counts\n",
    "treatment_counts_wuhan = wuhan_participants['Treatment'].value_counts()\n",
    "\n",
    "# 'Partner' counts\n",
    "partner_counts_wuhan = wuhan_participants['Partner'].value_counts()\n",
    "\n",
    "# 'decision' counts\n",
    "decision_counts_wuhan = wuhan_participants['decision'].value_counts()\n",
    "\n",
    "print(\"Gender counts among Wuhan participants:\\n\", gender_counts_wuhan)\n",
    "print(\"\\nNationality counts among Wuhan participants:\\n\", nationality_counts_wuhan)\n",
    "print(\"\\nTreatment counts among Wuhan participants:\\n\", treatment_counts_wuhan)\n",
    "print(\"\\nPartner counts among Wuhan participants:\\n\", partner_counts_wuhan)\n",
    "print(\"\\Decision counts among Wuhan participants:\\n\", decision_counts_wuhan)"
   ]
  },
  {
   "cell_type": "code",
   "execution_count": 32,
   "metadata": {},
   "outputs": [
    {
     "name": "stdout",
     "output_type": "stream",
     "text": [
      "Mean Duration (in seconds): 1050.1881188118812\n",
      "Standard Deviation of Duration (in seconds): 6283.648593454865\n",
      "Median Duration (in seconds): 312.0\n"
     ]
    }
   ],
   "source": [
    "mean_duration_wuhan = wuhan_participants['Duration (in seconds)'].mean()\n",
    "std_duration_wuhan = wuhan_participants['Duration (in seconds)'].std()\n",
    "median_duration_wuhan = wuhan_participants['Duration (in seconds)'].median()\n",
    "\n",
    "print(f\"Mean Duration (in seconds): {mean_duration_wuhan}\")\n",
    "print(f\"Standard Deviation of Duration (in seconds): {std_duration_wuhan}\")\n",
    "print(f\"Median Duration (in seconds): {median_duration_wuhan}\")"
   ]
  },
  {
   "cell_type": "markdown",
   "metadata": {},
   "source": [
    "### Both"
   ]
  },
  {
   "cell_type": "code",
   "execution_count": 25,
   "metadata": {},
   "outputs": [],
   "source": [
    "def count_observations_by_combinations(df, combinations):\n",
    "    counts_dict = {}\n",
    "    \n",
    "    for location, treatment, partner in combinations:\n",
    "        # Create a filter for the current combination\n",
    "        subset_df = df[(df['Location'] == location) & \n",
    "                       (df['Treatment'] == treatment) & \n",
    "                       (df['Partner'] == partner)]\n",
    "        \n",
    "        # Count the number of participants\n",
    "        count = len(subset_df)\n",
    "        \n",
    "        # Add to dictionary\n",
    "        counts_dict[f'Location: {location}, Treatment: {treatment}, Partner: {partner}'] = count\n",
    "    \n",
    "    return counts_dict\n"
   ]
  },
  {
   "cell_type": "code",
   "execution_count": 26,
   "metadata": {},
   "outputs": [],
   "source": [
    "# Define the combinations\n",
    "combinations = [\n",
    "    ('Chapman', 'Dict', 'Chapman'),\n",
    "    ('Chapman', 'Dict', 'Wuhan'),\n",
    "    ('Chapman', 'Lie', 'Chapman'),\n",
    "    ('Chapman', 'Lie', 'Wuhan'),\n",
    "    ('Wuhan', 'Dict', 'Chapman'),\n",
    "    ('Wuhan', 'Dict', 'Wuhan'),\n",
    "    ('Wuhan', 'Lie', 'Chapman'),\n",
    "    ('Wuhan', 'Lie', 'Wuhan')\n",
    "]"
   ]
  },
  {
   "cell_type": "code",
   "execution_count": 27,
   "metadata": {},
   "outputs": [
    {
     "name": "stdout",
     "output_type": "stream",
     "text": [
      "{'Location: Chapman, Treatment: Dict, Partner: Chapman': 54, 'Location: Chapman, Treatment: Dict, Partner: Wuhan': 54, 'Location: Chapman, Treatment: Lie, Partner: Chapman': 49, 'Location: Chapman, Treatment: Lie, Partner: Wuhan': 49, 'Location: Wuhan, Treatment: Dict, Partner: Chapman': 51, 'Location: Wuhan, Treatment: Dict, Partner: Wuhan': 49, 'Location: Wuhan, Treatment: Lie, Partner: Chapman': 48, 'Location: Wuhan, Treatment: Lie, Partner: Wuhan': 54}\n"
     ]
    }
   ],
   "source": [
    "observations_count = count_observations_by_combinations(altruism_df, combinations)\n",
    "print(observations_count)"
   ]
  },
  {
   "cell_type": "markdown",
   "metadata": {},
   "source": [
    "## PMFs"
   ]
  },
  {
   "cell_type": "code",
   "execution_count": 21,
   "metadata": {},
   "outputs": [],
   "source": [
    "# Function to calculate PMF\n",
    "def calculate_pmf(df, column):\n",
    "    pmf = df[column].value_counts(normalize=True)\n",
    "    pmf = pmf.sort_index()  # Sort by index for readability\n",
    "    return pmf"
   ]
  },
  {
   "cell_type": "code",
   "execution_count": 22,
   "metadata": {},
   "outputs": [
    {
     "name": "stdout",
     "output_type": "stream",
     "text": [
      "\n",
      "PMF for Location == Chapman, Treatment == Dict, Partner == Chapman:\n",
      " 1    0.370370\n",
      "2    0.185185\n",
      "3    0.407407\n",
      "4    0.037037\n",
      "Name: decision, dtype: float64\n",
      "\n",
      "PMF for Location == Chapman, Treatment == Dict, Partner == Wuhan:\n",
      " 1    0.333333\n",
      "2    0.222222\n",
      "3    0.370370\n",
      "4    0.037037\n",
      "5    0.037037\n",
      "Name: decision, dtype: float64\n",
      "\n",
      "PMF for Location == Chapman, Treatment == Lie, Partner == Chapman:\n",
      " 1    0.224490\n",
      "2    0.326531\n",
      "3    0.122449\n",
      "4    0.183673\n",
      "5    0.142857\n",
      "Name: decision, dtype: float64\n",
      "\n",
      "PMF for Location == Chapman, Treatment == Lie, Partner == Wuhan:\n",
      " 1    0.183673\n",
      "2    0.244898\n",
      "3    0.326531\n",
      "4    0.142857\n",
      "5    0.102041\n",
      "Name: decision, dtype: float64\n",
      "\n",
      "PMF for Location == Wuhan, Treatment == Dict, Partner == Chapman:\n",
      " 1    0.333333\n",
      "2    0.294118\n",
      "3    0.333333\n",
      "4    0.019608\n",
      "5    0.019608\n",
      "Name: decision, dtype: float64\n",
      "\n",
      "PMF for Location == Wuhan, Treatment == Dict, Partner == Wuhan:\n",
      " 1    0.367347\n",
      "2    0.265306\n",
      "3    0.367347\n",
      "Name: decision, dtype: float64\n",
      "\n",
      "PMF for Location == Wuhan, Treatment == Lie, Partner == Chapman:\n",
      " 1    0.333333\n",
      "2    0.145833\n",
      "3    0.437500\n",
      "4    0.041667\n",
      "5    0.041667\n",
      "Name: decision, dtype: float64\n",
      "\n",
      "PMF for Location == Wuhan, Treatment == Lie, Partner == Wuhan:\n",
      " 1    0.314815\n",
      "2    0.296296\n",
      "3    0.185185\n",
      "4    0.111111\n",
      "5    0.092593\n",
      "Name: decision, dtype: float64\n"
     ]
    }
   ],
   "source": [
    "# Define the combinations\n",
    "combinations = [\n",
    "    ('Chapman', 'Dict', 'Chapman'),\n",
    "    ('Chapman', 'Dict', 'Wuhan'),\n",
    "    ('Chapman', 'Lie', 'Chapman'),\n",
    "    ('Chapman', 'Lie', 'Wuhan'),\n",
    "    ('Wuhan', 'Dict', 'Chapman'),\n",
    "    ('Wuhan', 'Dict', 'Wuhan'),\n",
    "    ('Wuhan', 'Lie', 'Chapman'),\n",
    "    ('Wuhan', 'Lie', 'Wuhan')\n",
    "]\n",
    "\n",
    "# Iterate through combinations, calculate, and print PMFs\n",
    "for location, treatment, partner in combinations:\n",
    "    subset_df = altruism_df[(altruism_df['Location'] == location) & \n",
    "                   (altruism_df['Treatment'] == treatment) & \n",
    "                   (altruism_df['Partner'] == partner)]\n",
    "    pmf = calculate_pmf(subset_df, 'decision')\n",
    "    \n",
    "    print(f\"\\nPMF for Location == {location}, Treatment == {treatment}, Partner == {partner}:\\n\", pmf)"
   ]
  },
  {
   "cell_type": "code",
   "execution_count": 23,
   "metadata": {},
   "outputs": [],
   "source": [
    "def plot_pmf_by_combinations(df):\n",
    "    combinations = [\n",
    "        ('Chapman', 'Dict', 'Chapman'),\n",
    "        ('Chapman', 'Dict', 'Wuhan'),\n",
    "        ('Chapman', 'Lie', 'Chapman'),\n",
    "        ('Chapman', 'Lie', 'Wuhan'),\n",
    "        ('Wuhan', 'Dict', 'Chapman'),\n",
    "        ('Wuhan', 'Dict', 'Wuhan'),\n",
    "        ('Wuhan', 'Lie', 'Chapman'),\n",
    "        ('Wuhan', 'Lie', 'Wuhan')\n",
    "    ]\n",
    "\n",
    "    # Initialize an empty list to store all PMFs\n",
    "    all_pmfs = []\n",
    "\n",
    "    # Calculate PMF for each combination and store in the list\n",
    "    for location, treatment, partner in combinations:\n",
    "        subset_df = df[(df['Location'] == location) & (df['Treatment'] == treatment) & (df['Partner'] == partner)]\n",
    "        pmf = subset_df['decision'].value_counts(normalize=True).sort_index()\n",
    "        all_pmfs.append(pmf)\n",
    "\n",
    "    # Determine the global max probability for consistent y-axis scaling\n",
    "    max_probability = max(pmf.max() for pmf in all_pmfs)\n",
    "\n",
    "    # Create the figure and subplots\n",
    "    fig, axs = plt.subplots(len(combinations)//2, 2, figsize=(15, 20))\n",
    "    axs = axs.flatten()  # Flatten to iterate easily\n",
    "    fig.subplots_adjust(hspace=0.5, wspace=0.3)\n",
    "\n",
    "    for i, (location, treatment, partner) in enumerate(combinations):\n",
    "        pmf = all_pmfs[i]\n",
    "        \n",
    "        # Ensure every plot has bars for decisions 1 through 5, even if some have 0 probability\n",
    "        decisions = range(1, 6)  # Assuming decisions go from 1 to 5\n",
    "        probabilities = [pmf.get(decision, 0) for decision in decisions]\n",
    "        \n",
    "        axs[i].bar(decisions, probabilities, color='skyblue')\n",
    "        axs[i].set_title(f'Location: {location}, Treatment: {treatment}, Partner: {partner}')\n",
    "        axs[i].set_xlabel('Decision')\n",
    "        axs[i].set_ylabel('Probability')\n",
    "        axs[i].set_ylim(0, max_probability + 0.05)  # Add a little padding to the max probability\n",
    "        axs[i].set_xticks(decisions)\n",
    "\n",
    "    plt.tight_layout()\n",
    "    plt.show()\n"
   ]
  },
  {
   "cell_type": "code",
   "execution_count": 24,
   "metadata": {},
   "outputs": [
    {
     "data": {
      "image/png": "[encoded data removed]",
      "text/plain": [
       "<Figure size 1500x2000 with 8 Axes>"
      ]
     },
     "metadata": {},
     "output_type": "display_data"
    }
   ],
   "source": [
    "plot_pmf_by_combinations(altruism_df)"
   ]
  },
  {
   "cell_type": "markdown",
   "metadata": {},
   "source": [
    "## Statistical Tests"
   ]
  },
  {
   "cell_type": "markdown",
   "metadata": {},
   "source": [
    "### Tukey "
   ]
  },
  {
   "cell_type": "code",
   "execution_count": 25,
   "metadata": {},
   "outputs": [
    {
     "name": "stdout",
     "output_type": "stream",
     "text": [
      "                Multiple Comparison of Means - Tukey HSD, FWER=0.05                \n",
      "===================================================================================\n",
      "        group1                 group2        meandiff p-adj   lower   upper  reject\n",
      "-----------------------------------------------------------------------------------\n",
      "Chapman, Dict, Chapman  Chapman, Dict, Wuhan   0.1111 0.9996 -0.5472  0.7694  False\n",
      "Chapman, Dict, Chapman Chapman, Lie, Chapman   0.5828 0.1478 -0.0921  1.2576  False\n",
      "Chapman, Dict, Chapman   Chapman, Lie, Wuhan   0.6236  0.094 -0.0513  1.2984  False\n",
      "Chapman, Dict, Chapman  Wuhan, Dict, Chapman  -0.0131    1.0 -0.6809  0.6548  False\n",
      "Chapman, Dict, Chapman    Wuhan, Dict, Wuhan  -0.1111 0.9997  -0.786  0.5637  False\n",
      "Chapman, Dict, Chapman   Wuhan, Lie, Chapman   0.2014 0.9856 -0.4771  0.8799  False\n",
      "Chapman, Dict, Chapman     Wuhan, Lie, Wuhan   0.2593 0.9317  -0.399  0.9175  False\n",
      "  Chapman, Dict, Wuhan Chapman, Lie, Chapman   0.4717 0.3976 -0.2032  1.1465  False\n",
      "  Chapman, Dict, Wuhan   Chapman, Lie, Wuhan   0.5125 0.2886 -0.1624  1.1873  False\n",
      "  Chapman, Dict, Wuhan  Wuhan, Dict, Chapman  -0.1242 0.9992 -0.7921  0.5437  False\n",
      "  Chapman, Dict, Wuhan    Wuhan, Dict, Wuhan  -0.2222 0.9738 -0.8971  0.4526  False\n",
      "  Chapman, Dict, Wuhan   Wuhan, Lie, Chapman   0.0903 0.9999 -0.5882  0.7688  False\n",
      "  Chapman, Dict, Wuhan     Wuhan, Lie, Wuhan   0.1481 0.9973 -0.5101  0.8064  False\n",
      " Chapman, Lie, Chapman   Chapman, Lie, Wuhan   0.0408    1.0 -0.6502  0.7319  False\n",
      " Chapman, Lie, Chapman  Wuhan, Dict, Chapman  -0.5958 0.1404 -1.2801  0.0884  False\n",
      " Chapman, Lie, Chapman    Wuhan, Dict, Wuhan  -0.6939 0.0482 -1.3849 -0.0028   True\n",
      " Chapman, Lie, Chapman   Wuhan, Lie, Chapman  -0.3814 0.7048  -1.076  0.3132  False\n",
      " Chapman, Lie, Chapman     Wuhan, Lie, Wuhan  -0.3235 0.8278 -0.9984  0.3513  False\n",
      "   Chapman, Lie, Wuhan  Wuhan, Dict, Chapman  -0.6367 0.0894 -1.3209  0.0476  False\n",
      "   Chapman, Lie, Wuhan    Wuhan, Dict, Wuhan  -0.7347 0.0281 -1.4257 -0.0437   True\n",
      "   Chapman, Lie, Wuhan   Wuhan, Lie, Chapman  -0.4222 0.5848 -1.1168  0.2724  False\n",
      "   Chapman, Lie, Wuhan     Wuhan, Lie, Wuhan  -0.3643 0.7225 -1.0392  0.3105  False\n",
      "  Wuhan, Dict, Chapman    Wuhan, Dict, Wuhan   -0.098 0.9999 -0.7823  0.5862  False\n",
      "  Wuhan, Dict, Chapman   Wuhan, Lie, Chapman   0.2145 0.9808 -0.4734  0.9023  False\n",
      "  Wuhan, Dict, Chapman     Wuhan, Lie, Wuhan   0.2723 0.9187 -0.3955  0.9402  False\n",
      "    Wuhan, Dict, Wuhan   Wuhan, Lie, Chapman   0.3125   0.87 -0.3821  1.0071  False\n",
      "    Wuhan, Dict, Wuhan     Wuhan, Lie, Wuhan   0.3704 0.7052 -0.3045  1.0452  False\n",
      "   Wuhan, Lie, Chapman     Wuhan, Lie, Wuhan   0.0579    1.0 -0.6207  0.7364  False\n",
      "-----------------------------------------------------------------------------------\n"
     ]
    }
   ],
   "source": [
    "# Create a new column that combines the 'Location', 'Treatment', and 'Partner' into a single group identifier\n",
    "altruism_df['Group'] = altruism_df['Location'] + ', ' + altruism_df['Treatment'] + ', ' + altruism_df['Partner']\n",
    "\n",
    "# Perform Tukey's HSD test\n",
    "tukey_results = pairwise_tukeyhsd(endog=altruism_df['decision'], groups=altruism_df['Group'], alpha=0.05)\n",
    "print(tukey_results)\n"
   ]
  },
  {
   "cell_type": "code",
   "execution_count": 23,
   "metadata": {},
   "outputs": [
    {
     "data": {
      "image/png": "[encoded data removed]",
      "text/plain": [
       "<Figure size 1200x800 with 1 Axes>"
      ]
     },
     "metadata": {},
     "output_type": "display_data"
    }
   ],
   "source": [
    "# Visualize the results\n",
    "tukey_results.plot_simultaneous(figsize=(12, 8)) \n",
    "plt.show()"
   ]
  },
  {
   "cell_type": "markdown",
   "metadata": {},
   "source": [
    "The above plot shows the confidence intervals for the mean differences between each of the 8 treatments.  Each line represents a treatment with the confidence intervals depicted horizontally.  An overlappinng interval indicates that the mean difference between the treatments is not statistically significant at the chosen alpha level (0.05) with Tukey's Honest Significant Difference test correction."
   ]
  },
  {
   "cell_type": "markdown",
   "metadata": {},
   "source": [
    "### Anova"
   ]
  },
  {
   "cell_type": "code",
   "execution_count": 2,
   "metadata": {},
   "outputs": [],
   "source": [
    "def perform_anova(df, groups):\n",
    "    \"\"\"\n",
    "    Perform ANOVA on specified groups within the DataFrame.\n",
    "    \n",
    "    Parameters:\n",
    "    - df: The pandas DataFrame containing your data.\n",
    "    - groups: A list of tuples, where each tuple contains the filter criteria\n",
    "              for a specific group (e.g., Location and Treatment).\n",
    "    \n",
    "    Returns:\n",
    "    - The F-value and p-value from the ANOVA test.\n",
    "    \"\"\"\n",
    "    group_data = [df[(df['Location'] == location) & (df['Treatment'] == treatment) & (df['Partner'] == partner)]['decision'] \n",
    "                  for location, treatment, partner in groups]\n",
    "    f_val, p_val = stats.f_oneway(*group_data)\n",
    "    return f_val, p_val\n"
   ]
  },
  {
   "cell_type": "code",
   "execution_count": 10,
   "metadata": {},
   "outputs": [],
   "source": [
    "all_groups = [\n",
    "    ('Chapman', 'Dict', 'Chapman'),\n",
    "    ('Chapman', 'Dict', 'Wuhan'),\n",
    "    ('Chapman', 'Lie', 'Chapman'),\n",
    "    ('Chapman', 'Lie', 'Wuhan'),\n",
    "    ('Wuhan', 'Dict', 'Chapman'),\n",
    "    ('Wuhan', 'Dict', 'Wuhan'),\n",
    "    ('Wuhan', 'Lie', 'Chapman'),\n",
    "    ('Wuhan', 'Lie', 'Wuhan')\n",
    "]\n",
    "chapman_groups = [\n",
    "    ('Chapman', 'Dict', 'Chapman'),\n",
    "    ('Chapman', 'Dict', 'Wuhan'),\n",
    "    ('Chapman', 'Lie', 'Chapman'),\n",
    "    ('Chapman', 'Lie', 'Wuhan')\n",
    "]\n",
    "\n",
    "wuhan_groups = [\n",
    "    ('Wuhan', 'Dict', 'Chapman'),\n",
    "    ('Wuhan', 'Dict', 'Wuhan'),\n",
    "    ('Wuhan', 'Lie', 'Chapman'),\n",
    "    ('Wuhan', 'Lie', 'Wuhan')\n",
    "]\n",
    "\n",
    "dict_groups = [\n",
    "    ('Chapman', 'Dict', 'Chapman'),\n",
    "    ('Chapman', 'Dict', 'Wuhan'),\n",
    "    ('Wuhan', 'Dict', 'Chapman'),\n",
    "    ('Wuhan', 'Dict', 'Wuhan')\n",
    "]\n",
    "\n",
    "lie_groups = [\n",
    "    ('Chapman', 'Lie', 'Chapman'),\n",
    "    ('Chapman', 'Lie', 'Wuhan'),\n",
    "    ('Wuhan', 'Lie', 'Chapman'),\n",
    "    ('Wuhan', 'Lie', 'Wuhan')\n",
    "]\n",
    "\n",
    "homogoneous_groups = [\n",
    "    ('Chapman', 'Dict', 'Chapman'),\n",
    "    ('Chapman', 'Lie', 'Chapman'),\n",
    "    ('Wuhan', 'Dict', 'Wuhan'),\n",
    "    ('Wuhan', 'Lie', 'Wuhan')\n",
    "]\n",
    "\n",
    "heterogenous_groups = [\n",
    "    ('Chapman', 'Dict', 'Wuhan'),\n",
    "    ('Chapman', 'Lie', 'Wuhan'),\n",
    "    ('Wuhan', 'Dict', 'Wuhan'),\n",
    "    ('Wuhan', 'Lie', 'Wuhan')\n",
    "]"
   ]
  },
  {
   "cell_type": "code",
   "execution_count": 11,
   "metadata": {},
   "outputs": [
    {
     "name": "stdout",
     "output_type": "stream",
     "text": [
      "ANOVA for all treatments: F-value = 2.925204594683677, p-value = 0.005370994451836951\n",
      "ANOVA for Chapman treatments: F-value = 3.869442927996936, p-value = 0.010139992966277744\n",
      "ANOVA for Wuhan treatments: F-value = 1.3418681938931296, p-value = 0.2619771029757586\n",
      "ANOVA for Dictator treatments: F-value = 0.45066405884006366, p-value = 0.7171007614604796\n",
      "ANOVA for Lying-Dictator treatments: F-value = 1.473420992977857, p-value = 0.22303568573382188\n",
      "ANOVA for Homogeneous treatments: F-value = 3.587495320503707, p-value = 0.014684049787412641\n",
      "ANOVA for Heterogeneous treatments: F-value = 3.681162253896787, p-value = 0.012985213715710599\n"
     ]
    }
   ],
   "source": [
    "f_val, p_val = perform_anova(altruism_df, all_groups)\n",
    "print(f\"ANOVA for all treatments: F-value = {f_val}, p-value = {p_val}\")\n",
    "\n",
    "f_val_chap, p_val_chap = perform_anova(altruism_df, chapman_groups)\n",
    "print(f\"ANOVA for Chapman treatments: F-value = {f_val_chap}, p-value = {p_val_chap}\")\n",
    "\n",
    "f_val_wuh, p_val_wuh = perform_anova(altruism_df, wuhan_groups)\n",
    "print(f\"ANOVA for Wuhan treatments: F-value = {f_val_wuh}, p-value = {p_val_wuh}\")\n",
    "\n",
    "f_val_dict, p_val_dict = perform_anova(altruism_df, dict_groups)\n",
    "print(f\"ANOVA for Dictator treatments: F-value = {f_val_dict}, p-value = {p_val_dict}\")\n",
    "\n",
    "f_val_lie, p_val_lie = perform_anova(altruism_df, lie_groups)\n",
    "print(f\"ANOVA for Lying-Dictator treatments: F-value = {f_val_lie}, p-value = {p_val_lie}\")\n",
    "\n",
    "f_val_homog, p_val_homog = perform_anova(altruism_df, homogoneous_groups)\n",
    "print(f\"ANOVA for Homogeneous treatments: F-value = {f_val_homog}, p-value = {p_val_homog}\")\n",
    "\n",
    "f_val_hetero, p_val_hetero = perform_anova(altruism_df, heterogenous_groups)\n",
    "print(f\"ANOVA for Heterogeneous treatments: F-value = {f_val_hetero}, p-value = {p_val_hetero}\")\n",
    "\n"
   ]
  },
  {
   "cell_type": "markdown",
   "metadata": {},
   "source": [
    "### Chi-Squared"
   ]
  },
  {
   "cell_type": "code",
   "execution_count": 28,
   "metadata": {},
   "outputs": [],
   "source": [
    "def perform_chi_squared_tests_for_pairs(df, group_by_col, decision_col='decision'):\n",
    "    \"\"\"\n",
    "    Perform Chi-squared tests on the distribution of a decision variable across pairwise combinations of treatments.\n",
    "    \n",
    "    Parameters:\n",
    "    - df: The pandas DataFrame containing your data.\n",
    "    - group_by_col: Column name for grouping, typically 'Treatment' or similar.\n",
    "    - decision_col: The decision column to test, defaults to 'decision'.\n",
    "    \n",
    "    Returns:\n",
    "    - results: A list of dictionaries containing results for each pair.\n",
    "    \"\"\"\n",
    "    results = []\n",
    "    treatments = df[group_by_col].unique()\n",
    "    pairs = itertools.combinations(treatments, 2)  # Get all unique pairs of treatments\n",
    "\n",
    "    for treatment1, treatment2 in pairs:\n",
    "        # Filter data for each treatment in the pair\n",
    "        sub_df = df[df[group_by_col].isin([treatment1, treatment2])]\n",
    "        \n",
    "        # Create a contingency table\n",
    "        contingency_table = pd.crosstab(sub_df[decision_col], sub_df[group_by_col])\n",
    "        \n",
    "        # Perform the Chi-squared test\n",
    "        chi2, p, dof, expected = chi2_contingency(contingency_table)\n",
    "        \n",
    "        # Append the results\n",
    "        results.append({\n",
    "            'Treatment Pair': f'{treatment1} vs {treatment2}',\n",
    "            'Chi2 Statistic': chi2,\n",
    "            'P-value': p,\n",
    "            #'Degrees of Freedom': dof,\n",
    "            #'Expected Frequencies': expected\n",
    "        })\n",
    "\n",
    "    return results"
   ]
  },
  {
   "cell_type": "code",
   "execution_count": 29,
   "metadata": {},
   "outputs": [
    {
     "name": "stdout",
     "output_type": "stream",
     "text": [
      "{'Treatment Pair': 'Chapman, Dict, Chapman vs Chapman, Lie, Chapman', 'Chi2 Statistic': 24.409724026248053, 'P-value': 6.610428963814187e-05}\n",
      "{'Treatment Pair': 'Chapman, Dict, Chapman vs Chapman, Dict, Wuhan', 'Chi2 Statistic': 2.3823194349510137, 'P-value': 0.6658247624879039}\n",
      "{'Treatment Pair': 'Chapman, Dict, Chapman vs Chapman, Lie, Wuhan', 'Chi2 Statistic': 12.866980635424735, 'P-value': 0.011944375161946371}\n",
      "{'Treatment Pair': 'Chapman, Dict, Chapman vs Wuhan, Lie, Chapman', 'Chi2 Statistic': 2.6533519954062594, 'P-value': 0.6174017335277829}\n",
      "{'Treatment Pair': 'Chapman, Dict, Chapman vs Wuhan, Dict, Chapman', 'Chi2 Statistic': 3.134446663858429, 'P-value': 0.5355835211706703}\n",
      "{'Treatment Pair': 'Chapman, Dict, Chapman vs Wuhan, Dict, Wuhan', 'Chi2 Statistic': 2.6601175990355466, 'P-value': 0.44704749219587603}\n",
      "{'Treatment Pair': 'Chapman, Dict, Chapman vs Wuhan, Lie, Wuhan', 'Chi2 Statistic': 13.127858627858627, 'P-value': 0.01066766038344632}\n",
      "{'Treatment Pair': 'Chapman, Lie, Chapman vs Chapman, Dict, Wuhan', 'Chi2 Statistic': 16.828806979561534, 'P-value': 0.0020867181984288584}\n",
      "{'Treatment Pair': 'Chapman, Lie, Chapman vs Chapman, Lie, Wuhan', 'Chi2 Statistic': 5.900216450216451, 'P-value': 0.20672512890650416}\n",
      "{'Treatment Pair': 'Chapman, Lie, Chapman vs Wuhan, Lie, Chapman', 'Chi2 Statistic': 20.00513851419648, 'P-value': 0.0004982341340422286}\n",
      "{'Treatment Pair': 'Chapman, Lie, Chapman vs Wuhan, Dict, Chapman', 'Chi2 Statistic': 17.445820243545224, 'P-value': 0.0015830132105340779}\n",
      "{'Treatment Pair': 'Chapman, Lie, Chapman vs Wuhan, Dict, Wuhan', 'Chi2 Statistic': 24.0, 'P-value': 7.987476059326673e-05}\n",
      "{'Treatment Pair': 'Chapman, Lie, Chapman vs Wuhan, Lie, Wuhan', 'Chi2 Statistic': 2.983359428427455, 'P-value': 0.560614011310534}\n",
      "{'Treatment Pair': 'Chapman, Dict, Wuhan vs Chapman, Lie, Wuhan', 'Chi2 Statistic': 7.2823789127644005, 'P-value': 0.12169726231033734}\n",
      "{'Treatment Pair': 'Chapman, Dict, Wuhan vs Wuhan, Lie, Chapman', 'Chi2 Statistic': 1.1087220082727147, 'P-value': 0.8928859045089561}\n",
      "{'Treatment Pair': 'Chapman, Dict, Wuhan vs Wuhan, Dict, Chapman', 'Chi2 Statistic': 1.18706942236354, 'P-value': 0.8802229304270404}\n",
      "{'Treatment Pair': 'Chapman, Dict, Wuhan vs Wuhan, Dict, Wuhan', 'Chi2 Statistic': 3.911762740183793, 'P-value': 0.418079154431809}\n",
      "{'Treatment Pair': 'Chapman, Dict, Wuhan vs Wuhan, Lie, Wuhan', 'Chi2 Statistic': 7.21904761904762, 'P-value': 0.12475552547274403}\n",
      "{'Treatment Pair': 'Chapman, Lie, Wuhan vs Wuhan, Lie, Chapman', 'Chi2 Statistic': 8.005498768678146, 'P-value': 0.0913769750689574}\n",
      "{'Treatment Pair': 'Chapman, Lie, Wuhan vs Wuhan, Dict, Chapman', 'Chi2 Statistic': 9.955823821370041, 'P-value': 0.04117843497839077}\n",
      "{'Treatment Pair': 'Chapman, Lie, Wuhan vs Wuhan, Dict, Wuhan', 'Chi2 Statistic': 15.157647058823528, 'P-value': 0.004385170623934407}\n",
      "{'Treatment Pair': 'Chapman, Lie, Wuhan vs Wuhan, Lie, Wuhan', 'Chi2 Statistic': 4.2618300067279655, 'P-value': 0.37172917717498105}\n",
      "{'Treatment Pair': 'Wuhan, Lie, Chapman vs Wuhan, Dict, Chapman', 'Chi2 Statistic': 3.939821981424147, 'P-value': 0.41421131701683456}\n",
      "{'Treatment Pair': 'Wuhan, Lie, Chapman vs Wuhan, Dict, Wuhan', 'Chi2 Statistic': 6.138759446086127, 'P-value': 0.1890225162531714}\n",
      "{'Treatment Pair': 'Wuhan, Lie, Chapman vs Wuhan, Lie, Wuhan', 'Chi2 Statistic': 10.424110663504072, 'P-value': 0.03385855701940582}\n",
      "{'Treatment Pair': 'Wuhan, Dict, Chapman vs Wuhan, Dict, Wuhan', 'Chi2 Statistic': 2.160864345738296, 'P-value': 0.7062001907922907}\n",
      "{'Treatment Pair': 'Wuhan, Dict, Chapman vs Wuhan, Lie, Wuhan', 'Chi2 Statistic': 8.005989333208392, 'P-value': 0.09135904373405625}\n",
      "{'Treatment Pair': 'Wuhan, Dict, Wuhan vs Wuhan, Lie, Wuhan', 'Chi2 Statistic': 13.413520920135982, 'P-value': 0.009422427430455732}\n"
     ]
    }
   ],
   "source": [
    "results = perform_chi_squared_tests_for_pairs(altruism_df, 'Group')\n",
    "for result in results:\n",
    "    print(result)"
   ]
  },
  {
   "cell_type": "code",
   "execution_count": 22,
   "metadata": {},
   "outputs": [
    {
     "name": "stdout",
     "output_type": "stream",
     "text": [
      "{'Treatment Pair': 'Chapman, Dict, Chapman vs Chapman, Lie, Chapman', 'Chi2 Statistic': 9.361045282261165, 'P-value': 0.00927416555983409, 'Degrees of Freedom': 2, 'Expected Frequencies': array([[18.96470588, 12.03529412],\n",
      "       [15.90588235, 10.09411765],\n",
      "       [17.12941176, 10.87058824]])}\n",
      "{'Treatment Pair': 'Chapman, Dict, Chapman vs Chapman, Lie, Wuhan', 'Chi2 Statistic': 2.8545967692973133, 'P-value': 0.23995631701386333, 'Degrees of Freedom': 2, 'Expected Frequencies': array([[16.94382022, 12.05617978],\n",
      "       [12.85393258,  9.14606742],\n",
      "       [22.20224719, 15.79775281]])}\n",
      "{'Treatment Pair': 'Chapman, Dict, Chapman vs Wuhan, Lie, Chapman', 'Chi2 Statistic': 0.3327561631255204, 'P-value': 0.846726042158613, 'Degrees of Freedom': 2, 'Expected Frequencies': array([[19.5       , 16.5       ],\n",
      "       [ 9.20833333,  7.79166667],\n",
      "       [23.29166667, 19.70833333]])}\n",
      "{'Treatment Pair': 'Chapman, Dict, Chapman vs Wuhan, Dict, Chapman', 'Chi2 Statistic': 1.796745181360567, 'P-value': 0.407231853678118, 'Degrees of Freedom': 2, 'Expected Frequencies': array([[19.04950495, 17.95049505],\n",
      "       [12.87128713, 12.12871287],\n",
      "       [20.07920792, 18.92079208]])}\n",
      "{'Treatment Pair': 'Chapman, Dict, Chapman vs Wuhan, Dict, Wuhan', 'Chi2 Statistic': 0.8081716175292506, 'P-value': 0.6675868340095832, 'Degrees of Freedom': 2, 'Expected Frequencies': array([[19.56435644, 18.43564356],\n",
      "       [11.84158416, 11.15841584],\n",
      "       [20.59405941, 19.40594059]])}\n",
      "{'Treatment Pair': 'Chapman, Dict, Chapman vs Wuhan, Lie, Wuhan', 'Chi2 Statistic': 5.323001354698581, 'P-value': 0.06984333075611016, 'Degrees of Freedom': 2, 'Expected Frequencies': array([[20.25263158, 16.74736842],\n",
      "       [14.23157895, 11.76842105],\n",
      "       [17.51578947, 14.48421053]])}\n",
      "{'Treatment Pair': 'Chapman, Dict, Chapman vs Chapman, Dict, Wuhan', 'Chi2 Statistic': 0.3432357116567643, 'P-value': 0.8423009920888458, 'Degrees of Freedom': 2, 'Expected Frequencies': array([[19.37254902, 18.62745098],\n",
      "       [11.21568627, 10.78431373],\n",
      "       [21.41176471, 20.58823529]])}\n",
      "{'Treatment Pair': 'Chapman, Lie, Chapman vs Chapman, Lie, Wuhan', 'Chi2 Statistic': 5.1049810140719245, 'P-value': 0.07788744501735095, 'Degrees of Freedom': 2, 'Expected Frequencies': array([[ 9.42857143, 10.57142857],\n",
      "       [13.2       , 14.8       ],\n",
      "       [10.37142857, 11.62857143]])}\n",
      "{'Treatment Pair': 'Chapman, Lie, Chapman vs Wuhan, Lie, Chapman', 'Chi2 Statistic': 11.443102522812666, 'P-value': 0.0032746271575248708, 'Degrees of Freedom': 2, 'Expected Frequencies': array([[11.57142857, 15.42857143],\n",
      "       [ 9.85714286, 13.14285714],\n",
      "       [11.57142857, 15.42857143]])}\n",
      "{'Treatment Pair': 'Chapman, Lie, Chapman vs Wuhan, Dict, Chapman', 'Chi2 Statistic': 3.593712591136524, 'P-value': 0.16581935674000023, 'Degrees of Freedom': 2, 'Expected Frequencies': array([[11.26829268, 16.73170732],\n",
      "       [12.47560976, 18.52439024],\n",
      "       [ 9.25609756, 13.74390244]])}\n",
      "{'Treatment Pair': 'Chapman, Lie, Chapman vs Wuhan, Dict, Wuhan', 'Chi2 Statistic': 5.071119356833642, 'P-value': 0.07921737060283107, 'Degrees of Freedom': 2, 'Expected Frequencies': array([[11.67073171, 17.32926829],\n",
      "       [11.67073171, 17.32926829],\n",
      "       [ 9.65853659, 14.34146341]])}\n",
      "{'Treatment Pair': 'Chapman, Lie, Chapman vs Wuhan, Lie, Wuhan', 'Chi2 Statistic': 0.9870129870129865, 'P-value': 0.6104819855859287, 'Degrees of Freedom': 2, 'Expected Frequencies': array([[12.15789474, 15.84210526],\n",
      "       [13.89473684, 18.10526316],\n",
      "       [ 6.94736842,  9.05263158]])}\n",
      "{'Treatment Pair': 'Chapman, Lie, Chapman vs Chapman, Dict, Wuhan', 'Chi2 Statistic': 6.594252643907817, 'P-value': 0.036989310186723315, 'Degrees of Freedom': 2, 'Expected Frequencies': array([[17.46987952, 11.53012048],\n",
      "       [16.86746988, 11.13253012],\n",
      "       [15.6626506 , 10.3373494 ]])}\n",
      "{'Treatment Pair': 'Chapman, Lie, Wuhan vs Wuhan, Lie, Chapman', 'Chi2 Statistic': 3.3717080535857202, 'P-value': 0.1852861250512848, 'Degrees of Freedom': 2, 'Expected Frequencies': array([[11.41975309, 13.58024691],\n",
      "       [ 8.67901235, 10.32098765],\n",
      "       [16.90123457, 20.09876543]])}\n",
      "{'Treatment Pair': 'Chapman, Lie, Wuhan vs Wuhan, Dict, Chapman', 'Chi2 Statistic': 1.1736063164634596, 'P-value': 0.5561022169287047, 'Degrees of Freedom': 2, 'Expected Frequencies': array([[11.18604651, 14.81395349],\n",
      "       [11.61627907, 15.38372093],\n",
      "       [14.19767442, 18.80232558]])}\n",
      "{'Treatment Pair': 'Chapman, Lie, Wuhan vs Wuhan, Dict, Wuhan', 'Chi2 Statistic': 1.512680315369391, 'P-value': 0.46938114827968047, 'Degrees of Freedom': 2, 'Expected Frequencies': array([[11.61627907, 15.38372093],\n",
      "       [10.75581395, 14.24418605],\n",
      "       [14.62790698, 19.37209302]])}\n",
      "{'Treatment Pair': 'Chapman, Lie, Wuhan vs Wuhan, Lie, Wuhan', 'Chi2 Statistic': 3.9900263156077105, 'P-value': 0.13601186453763983, 'Degrees of Freedom': 2, 'Expected Frequencies': array([[12.025, 13.975],\n",
      "       [12.95 , 15.05 ],\n",
      "       [12.025, 13.975]])}\n",
      "{'Treatment Pair': 'Chapman, Lie, Wuhan vs Chapman, Dict, Wuhan', 'Chi2 Statistic': 1.5362162162162156, 'P-value': 0.4638898681247111, 'Degrees of Freedom': 2, 'Expected Frequencies': array([[15.51724138, 11.48275862],\n",
      "       [13.79310345, 10.20689655],\n",
      "       [20.68965517, 15.31034483]])}\n",
      "{'Treatment Pair': 'Wuhan, Lie, Chapman vs Wuhan, Dict, Chapman', 'Chi2 Statistic': 3.10059165031824, 'P-value': 0.2121851948223753, 'Degrees of Freedom': 2, 'Expected Frequencies': array([[17.38709677, 15.61290323],\n",
      "       [11.59139785, 10.40860215],\n",
      "       [20.02150538, 17.97849462]])}\n",
      "{'Treatment Pair': 'Wuhan, Lie, Chapman vs Wuhan, Dict, Wuhan', 'Chi2 Statistic': 1.8850478303209393, 'P-value': 0.38964316697519547, 'Degrees of Freedom': 2, 'Expected Frequencies': array([[17.91397849, 16.08602151],\n",
      "       [10.53763441,  9.46236559],\n",
      "       [20.5483871 , 18.4516129 ]])}\n",
      "{'Treatment Pair': 'Wuhan, Lie, Chapman vs Wuhan, Lie, Wuhan', 'Chi2 Statistic': 7.444757299637521, 'P-value': 0.024176392225732885, 'Degrees of Freedom': 2, 'Expected Frequencies': array([[16.68965517, 16.31034483],\n",
      "       [11.63218391, 11.36781609],\n",
      "       [15.67816092, 15.32183908]])}\n",
      "{'Treatment Pair': 'Wuhan, Lie, Chapman vs Chapman, Dict, Wuhan', 'Chi2 Statistic': 1.0792451586773109, 'P-value': 0.5829682351152025, 'Degrees of Freedom': 2, 'Expected Frequencies': array([[18.08510638, 15.91489362],\n",
      "       [10.10638298,  8.89361702],\n",
      "       [21.80851064, 19.19148936]])}\n",
      "{'Treatment Pair': 'Wuhan, Dict, Chapman vs Wuhan, Dict, Wuhan', 'Chi2 Statistic': 0.2, 'P-value': 0.9048374180359595, 'Degrees of Freedom': 2, 'Expected Frequencies': array([[17.5, 17.5],\n",
      "       [14. , 14. ],\n",
      "       [17.5, 17.5]])}\n",
      "{'Treatment Pair': 'Wuhan, Dict, Chapman vs Wuhan, Lie, Wuhan', 'Chi2 Statistic': 1.4619868118957176, 'P-value': 0.48143049654163916, 'Degrees of Freedom': 2, 'Expected Frequencies': array([[18.10869565, 15.89130435],\n",
      "       [16.51086957, 14.48913043],\n",
      "       [14.38043478, 12.61956522]])}\n",
      "{'Treatment Pair': 'Wuhan, Dict, Chapman vs Chapman, Dict, Wuhan', 'Chi2 Statistic': 0.5951077141281218, 'P-value': 0.742632586132964, 'Degrees of Freedom': 2, 'Expected Frequencies': array([[17.67676768, 17.32323232],\n",
      "       [13.63636364, 13.36363636],\n",
      "       [18.68686869, 18.31313131]])}\n",
      "{'Treatment Pair': 'Wuhan, Dict, Wuhan vs Wuhan, Lie, Wuhan', 'Chi2 Statistic': 2.242865793355949, 'P-value': 0.3258126041869818, 'Degrees of Freedom': 2, 'Expected Frequencies': array([[18.64130435, 16.35869565],\n",
      "       [15.44565217, 13.55434783],\n",
      "       [14.91304348, 13.08695652]])}\n",
      "{'Treatment Pair': 'Wuhan, Dict, Wuhan vs Chapman, Dict, Wuhan', 'Chi2 Statistic': 0.1351759398496244, 'P-value': 0.9346454963054113, 'Degrees of Freedom': 2, 'Expected Frequencies': array([[18.18181818, 17.81818182],\n",
      "       [12.62626263, 12.37373737],\n",
      "       [19.19191919, 18.80808081]])}\n",
      "{'Treatment Pair': 'Wuhan, Lie, Wuhan vs Chapman, Dict, Wuhan', 'Chi2 Statistic': 3.42586046511628, 'P-value': 0.18033658950569145, 'Degrees of Freedom': 2, 'Expected Frequencies': array([[18.8172043 , 16.1827957 ],\n",
      "       [15.05376344, 12.94623656],\n",
      "       [16.12903226, 13.87096774]])}\n"
     ]
    }
   ],
   "source": [
    "# focus on 1s, 2s, and 3s\n",
    "altruism_df_filtered = altruism_df[altruism_df['decision'].isin([1, 2, 3])]\n",
    "results = perform_chi_squared_tests_for_pairs(altruism_df_filtered, 'Group')\n",
    "for result in results:\n",
    "    print(result)"
   ]
  },
  {
   "cell_type": "markdown",
   "metadata": {},
   "source": [
    "### Kolmogorov-Smirnov"
   ]
  },
  {
   "cell_type": "markdown",
   "metadata": {},
   "source": [
    "Our data is not continuous"
   ]
  },
  {
   "cell_type": "code",
   "execution_count": 26,
   "metadata": {},
   "outputs": [],
   "source": [
    "def run_ks_tests_with_correction(df, combinations):\n",
    "    results = []\n",
    "    n_combinations = len(combinations)\n",
    "    # Calculate the number of tests for Bonferroni correction\n",
    "    n_tests = n_combinations * (n_combinations - 1) / 2\n",
    "    corrected_alpha = 0.05 / n_tests\n",
    "    \n",
    "    for (loc1, treat1, part1), (loc2, treat2, part2) in itertools.combinations(combinations, 2):\n",
    "        group1 = df[(df['Location'] == loc1) & (df['Treatment'] == treat1) & (df['Partner'] == part1)]['decision']\n",
    "        group2 = df[(df['Location'] == loc2) & (df['Treatment'] == treat2) & (df['Partner'] == part2)]['decision']\n",
    "        \n",
    "        ks_stat, p_value = ks_2samp(group1, group2)\n",
    "        \n",
    "        # Apply Bonferroni correction\n",
    "        significant = 'Yes' if p_value < corrected_alpha else 'No'\n",
    "        \n",
    "        results.append({\n",
    "            'Group 1': f'{loc1}, {treat1}, {part1}',\n",
    "            'Group 2': f'{loc2}, {treat2}, {part2}',\n",
    "            'KS Statistic': ks_stat,\n",
    "            'P-value': p_value,\n",
    "            'Significant After Correction': significant\n",
    "        })\n",
    "        \n",
    "    return pd.DataFrame(results)"
   ]
  },
  {
   "cell_type": "code",
   "execution_count": 27,
   "metadata": {},
   "outputs": [
    {
     "name": "stdout",
     "output_type": "stream",
     "text": [
      "                   Group 1                Group 2  KS Statistic   P-value  \\\n",
      "0   Chapman, Dict, Chapman   Chapman, Dict, Wuhan      0.037037  1.000000   \n",
      "1   Chapman, Dict, Chapman  Chapman, Lie, Chapman      0.289494  0.020436   \n",
      "2   Chapman, Dict, Chapman    Chapman, Lie, Wuhan      0.207861  0.181779   \n",
      "3   Chapman, Dict, Chapman   Wuhan, Dict, Chapman      0.071895  0.996464   \n",
      "4   Chapman, Dict, Chapman     Wuhan, Dict, Wuhan      0.077098  0.992539   \n",
      "5   Chapman, Dict, Chapman    Wuhan, Lie, Chapman      0.076389  0.994420   \n",
      "6   Chapman, Dict, Chapman      Wuhan, Lie, Wuhan      0.166667  0.444707   \n",
      "7     Chapman, Dict, Wuhan  Chapman, Lie, Chapman      0.252457  0.060375   \n",
      "8     Chapman, Dict, Wuhan    Chapman, Lie, Wuhan      0.170824  0.384935   \n",
      "9     Chapman, Dict, Wuhan   Wuhan, Dict, Chapman      0.071895  0.996464   \n",
      "10    Chapman, Dict, Wuhan     Wuhan, Dict, Wuhan      0.077098  0.992539   \n",
      "11    Chapman, Dict, Wuhan    Wuhan, Lie, Chapman      0.076389  0.994420   \n",
      "12    Chapman, Dict, Wuhan      Wuhan, Lie, Wuhan      0.129630  0.759708   \n",
      "13   Chapman, Lie, Chapman    Chapman, Lie, Wuhan      0.122449  0.861277   \n",
      "14   Chapman, Lie, Chapman   Wuhan, Dict, Chapman      0.287315  0.023798   \n",
      "15   Chapman, Lie, Chapman     Wuhan, Dict, Wuhan      0.326531  0.010333   \n",
      "16   Chapman, Lie, Chapman    Wuhan, Lie, Chapman      0.243197  0.081933   \n",
      "17   Chapman, Lie, Chapman      Wuhan, Lie, Wuhan      0.122827  0.775041   \n",
      "18     Chapman, Lie, Wuhan   Wuhan, Dict, Chapman      0.205682  0.202896   \n",
      "19     Chapman, Lie, Wuhan     Wuhan, Dict, Wuhan      0.244898  0.105914   \n",
      "20     Chapman, Lie, Wuhan    Wuhan, Lie, Chapman      0.161565  0.463978   \n",
      "21     Chapman, Lie, Wuhan      Wuhan, Lie, Wuhan      0.182540  0.307785   \n",
      "22    Wuhan, Dict, Chapman     Wuhan, Dict, Wuhan      0.039216  1.000000   \n",
      "23    Wuhan, Dict, Chapman    Wuhan, Lie, Chapman      0.148284  0.585880   \n",
      "24    Wuhan, Dict, Chapman      Wuhan, Lie, Wuhan      0.164488  0.416887   \n",
      "25      Wuhan, Dict, Wuhan    Wuhan, Lie, Chapman      0.153486  0.549270   \n",
      "26      Wuhan, Dict, Wuhan      Wuhan, Lie, Wuhan      0.203704  0.196887   \n",
      "27     Wuhan, Lie, Chapman      Wuhan, Lie, Wuhan      0.131944  0.710151   \n",
      "\n",
      "   Significant After Correction  \n",
      "0                            No  \n",
      "1                            No  \n",
      "2                            No  \n",
      "3                            No  \n",
      "4                            No  \n",
      "5                            No  \n",
      "6                            No  \n",
      "7                            No  \n",
      "8                            No  \n",
      "9                            No  \n",
      "10                           No  \n",
      "11                           No  \n",
      "12                           No  \n",
      "13                           No  \n",
      "14                           No  \n",
      "15                           No  \n",
      "16                           No  \n",
      "17                           No  \n",
      "18                           No  \n",
      "19                           No  \n",
      "20                           No  \n",
      "21                           No  \n",
      "22                           No  \n",
      "23                           No  \n",
      "24                           No  \n",
      "25                           No  \n",
      "26                           No  \n",
      "27                           No  \n"
     ]
    }
   ],
   "source": [
    "combinations = [\n",
    "    ('Chapman', 'Dict', 'Chapman'),\n",
    "    ('Chapman', 'Dict', 'Wuhan'),\n",
    "    ('Chapman', 'Lie', 'Chapman'),\n",
    "    ('Chapman', 'Lie', 'Wuhan'),\n",
    "    ('Wuhan', 'Dict', 'Chapman'),\n",
    "    ('Wuhan', 'Dict', 'Wuhan'),\n",
    "    ('Wuhan', 'Lie', 'Chapman'),\n",
    "    ('Wuhan', 'Lie', 'Wuhan')\n",
    "]\n",
    "\n",
    "results_df = run_ks_tests_with_correction(altruism_df, combinations)\n",
    "print(results_df)"
   ]
  },
  {
   "cell_type": "markdown",
   "metadata": {},
   "source": [
    "### Epps-Singleton"
   ]
  },
  {
   "cell_type": "markdown",
   "metadata": {},
   "source": [
    "This is the optimal test for our study.  Since we have discrete data, have more than 25 observations per cell, do not want a directional alternative hypothesis, &+."
   ]
  },
  {
   "cell_type": "code",
   "execution_count": 30,
   "metadata": {},
   "outputs": [
    {
     "name": "stdout",
     "output_type": "stream",
     "text": [
      "Intel MKL WARNING: Support of Intel(R) Streaming SIMD Extensions 4.2 (Intel(R) SSE4.2) enabled only processors has been deprecated. Intel oneAPI Math Kernel Library 2025.0 will require Intel(R) Advanced Vector Extensions (Intel(R) AVX) instructions.\n",
      "Intel MKL WARNING: Support of Intel(R) Streaming SIMD Extensions 4.2 (Intel(R) SSE4.2) enabled only processors has been deprecated. Intel oneAPI Math Kernel Library 2025.0 will require Intel(R) Advanced Vector Extensions (Intel(R) AVX) instructions.\n",
      "Epps-Singleton Test Statistic: 30.9073927224987, P-value: 3.1974843227760647e-06\n"
     ]
    }
   ],
   "source": [
    "# Chapman x Chapman | Lie vs Dict\n",
    "sample1 = altruism_df[(altruism_df['Location'] == 'Chapman') & (altruism_df['Treatment'] == 'Dict') & (altruism_df['Partner'] == 'Chapman')]['decision']\n",
    "sample2 = altruism_df[(altruism_df['Location'] == 'Chapman') & (altruism_df['Treatment'] == 'Lie') & (altruism_df['Partner'] == 'Chapman')]['decision']\n",
    "\n",
    "# Perform the Epps-Singleton test\n",
    "statistic, p_value = epps_singleton_2samp(sample1, sample2)\n",
    "print(f\"Epps-Singleton Test Statistic: {statistic}, P-value: {p_value}\")"
   ]
  },
  {
   "cell_type": "code",
   "execution_count": 31,
   "metadata": {},
   "outputs": [
    {
     "name": "stdout",
     "output_type": "stream",
     "text": [
      "Intel MKL WARNING: Support of Intel(R) Streaming SIMD Extensions 4.2 (Intel(R) SSE4.2) enabled only processors has been deprecated. Intel oneAPI Math Kernel Library 2025.0 will require Intel(R) Advanced Vector Extensions (Intel(R) AVX) instructions.\n",
      "Intel MKL WARNING: Support of Intel(R) Streaming SIMD Extensions 4.2 (Intel(R) SSE4.2) enabled only processors has been deprecated. Intel oneAPI Math Kernel Library 2025.0 will require Intel(R) Advanced Vector Extensions (Intel(R) AVX) instructions.\n",
      "Epps-Singleton Test Statistic: 2.4360551907434074, P-value: 0.6561215189019425\n"
     ]
    }
   ],
   "source": [
    "# Chapman x Dict | Partner: Chapman vs Wuhan\n",
    "sample1 = altruism_df[(altruism_df['Location'] == 'Chapman') & (altruism_df['Treatment'] == 'Dict') & (altruism_df['Partner'] == 'Chapman')]['decision']\n",
    "sample2 = altruism_df[(altruism_df['Location'] == 'Chapman') & (altruism_df['Treatment'] == 'Dict') & (altruism_df['Partner'] == 'Wuhan')]['decision']\n",
    "\n",
    "# Perform the Epps-Singleton test\n",
    "statistic, p_value = epps_singleton_2samp(sample1, sample2)\n",
    "print(f\"Epps-Singleton Test Statistic: {statistic}, P-value: {p_value}\")"
   ]
  },
  {
   "cell_type": "code",
   "execution_count": 32,
   "metadata": {},
   "outputs": [
    {
     "name": "stdout",
     "output_type": "stream",
     "text": [
      "Intel MKL WARNING: Support of Intel(R) Streaming SIMD Extensions 4.2 (Intel(R) SSE4.2) enabled only processors has been deprecated. Intel oneAPI Math Kernel Library 2025.0 will require Intel(R) Advanced Vector Extensions (Intel(R) AVX) instructions.\n",
      "Intel MKL WARNING: Support of Intel(R) Streaming SIMD Extensions 4.2 (Intel(R) SSE4.2) enabled only processors has been deprecated. Intel oneAPI Math Kernel Library 2025.0 will require Intel(R) Advanced Vector Extensions (Intel(R) AVX) instructions.\n",
      "Epps-Singleton Test Statistic: 6.278203811503063, P-value: 0.17931287885461625\n"
     ]
    }
   ],
   "source": [
    "# Chapman x Lie | Partner: Chapman vs Wuhan\n",
    "sample1 = altruism_df[(altruism_df['Location'] == 'Chapman') & (altruism_df['Treatment'] == 'Lie') & (altruism_df['Partner'] == 'Chapman')]['decision']\n",
    "sample2 = altruism_df[(altruism_df['Location'] == 'Chapman') & (altruism_df['Treatment'] == 'Lie') & (altruism_df['Partner'] == 'Wuhan')]['decision']\n",
    "\n",
    "# Perform the Epps-Singleton test\n",
    "statistic, p_value = epps_singleton_2samp(sample1, sample2)\n",
    "print(f\"Epps-Singleton Test Statistic: {statistic}, P-value: {p_value}\")"
   ]
  },
  {
   "cell_type": "code",
   "execution_count": 33,
   "metadata": {},
   "outputs": [
    {
     "name": "stdout",
     "output_type": "stream",
     "text": [
      "Intel MKL WARNING: Support of Intel(R) Streaming SIMD Extensions 4.2 (Intel(R) SSE4.2) enabled only processors has been deprecated. Intel oneAPI Math Kernel Library 2025.0 will require Intel(R) Advanced Vector Extensions (Intel(R) AVX) instructions.\n",
      "Intel MKL WARNING: Support of Intel(R) Streaming SIMD Extensions 4.2 (Intel(R) SSE4.2) enabled only processors has been deprecated. Intel oneAPI Math Kernel Library 2025.0 will require Intel(R) Advanced Vector Extensions (Intel(R) AVX) instructions.\n",
      "Epps-Singleton Test Statistic: 16.648800869379095, P-value: 0.0022614122583777727\n"
     ]
    }
   ],
   "source": [
    "# Wuhan x Wuhan | Lie vs Dict\n",
    "sample1 = altruism_df[(altruism_df['Location'] == 'Wuhan') & (altruism_df['Treatment'] == 'Dict') & (altruism_df['Partner'] == 'Wuhan')]['decision']\n",
    "sample2 = altruism_df[(altruism_df['Location'] == 'Wuhan') & (altruism_df['Treatment'] == 'Lie') & (altruism_df['Partner'] == 'Wuhan')]['decision']\n",
    "\n",
    "# Perform the Epps-Singleton test\n",
    "statistic, p_value = epps_singleton_2samp(sample1, sample2)\n",
    "print(f\"Epps-Singleton Test Statistic: {statistic}, P-value: {p_value}\")"
   ]
  },
  {
   "cell_type": "code",
   "execution_count": 35,
   "metadata": {},
   "outputs": [
    {
     "name": "stdout",
     "output_type": "stream",
     "text": [
      "Intel MKL WARNING: Support of Intel(R) Streaming SIMD Extensions 4.2 (Intel(R) SSE4.2) enabled only processors has been deprecated. Intel oneAPI Math Kernel Library 2025.0 will require Intel(R) Advanced Vector Extensions (Intel(R) AVX) instructions.\n",
      "Epps-Singleton Test Statistic: 2.290413303881728, P-value: 0.6825150076252811\n",
      "Intel MKL WARNING: Support of Intel(R) Streaming SIMD Extensions 4.2 (Intel(R) SSE4.2) enabled only processors has been deprecated. Intel oneAPI Math Kernel Library 2025.0 will require Intel(R) Advanced Vector Extensions (Intel(R) AVX) instructions.\n"
     ]
    }
   ],
   "source": [
    "# Wuhan x Dict | Partner: Chapman vs Wuhan\n",
    "sample1 = altruism_df[(altruism_df['Location'] == 'Wuhan') & (altruism_df['Treatment'] == 'Dict') & (altruism_df['Partner'] == 'Chapman')]['decision']\n",
    "sample2 = altruism_df[(altruism_df['Location'] == 'Wuhan') & (altruism_df['Treatment'] == 'Dict') & (altruism_df['Partner'] == 'Wuhan')]['decision']\n",
    "\n",
    "# Perform the Epps-Singleton test\n",
    "statistic, p_value = epps_singleton_2samp(sample1, sample2)\n",
    "print(f\"Epps-Singleton Test Statistic: {statistic}, P-value: {p_value}\")"
   ]
  },
  {
   "cell_type": "code",
   "execution_count": 36,
   "metadata": {},
   "outputs": [
    {
     "name": "stdout",
     "output_type": "stream",
     "text": [
      "Intel MKL WARNING: Support of Intel(R) Streaming SIMD Extensions 4.2 (Intel(R) SSE4.2) enabled only processors has been deprecated. Intel oneAPI Math Kernel Library 2025.0 will require Intel(R) Advanced Vector Extensions (Intel(R) AVX) instructions.\n",
      "Epps-Singleton Test Statistic: 11.593299579612612, P-value: 0.020646282974759202\n",
      "Intel MKL WARNING: Support of Intel(R) Streaming SIMD Extensions 4.2 (Intel(R) SSE4.2) enabled only processors has been deprecated. Intel oneAPI Math Kernel Library 2025.0 will require Intel(R) Advanced Vector Extensions (Intel(R) AVX) instructions.\n"
     ]
    }
   ],
   "source": [
    "# Wuhan x Lie | Partner: Chapman vs Wuhan\n",
    "sample1 = altruism_df[(altruism_df['Location'] == 'Wuhan') & (altruism_df['Treatment'] == 'Lie') & (altruism_df['Partner'] == 'Chapman')]['decision']\n",
    "sample2 = altruism_df[(altruism_df['Location'] == 'Wuhan') & (altruism_df['Treatment'] == 'Lie') & (altruism_df['Partner'] == 'Wuhan')]['decision']\n",
    "\n",
    "# Perform the Epps-Singleton test\n",
    "statistic, p_value = epps_singleton_2samp(sample1, sample2)\n",
    "print(f\"Epps-Singleton Test Statistic: {statistic}, P-value: {p_value}\")"
   ]
  },
  {
   "cell_type": "code",
   "execution_count": 37,
   "metadata": {},
   "outputs": [
    {
     "name": "stdout",
     "output_type": "stream",
     "text": [
      "Intel MKL WARNING: Support of Intel(R) Streaming SIMD Extensions 4.2 (Intel(R) SSE4.2) enabled only processors has been deprecated. Intel oneAPI Math Kernel Library 2025.0 will require Intel(R) Advanced Vector Extensions (Intel(R) AVX) instructions.\n",
      "Intel MKL WARNING: Support of Intel(R) Streaming SIMD Extensions 4.2 (Intel(R) SSE4.2) enabled only processors has been deprecated. Intel oneAPI Math Kernel Library 2025.0 will require Intel(R) Advanced Vector Extensions (Intel(R) AVX) instructions.\n",
      "Epps-Singleton Test Statistic: 2.9133307651554627, P-value: 0.4051817984585665\n"
     ]
    },
    {
     "name": "stderr",
     "output_type": "stream",
     "text": [
      "/Users/aaronberman/opt/anaconda3/envs/MGPGG_DA/lib/python3.9/site-packages/scipy/stats/_hypotests.py:131: UserWarning: Estimated covariance matrix does not have full rank. This indicates a bad choice of the input t and the test might not be consistent.\n",
      "  warnings.warn('Estimated covariance matrix does not have full rank. '\n"
     ]
    }
   ],
   "source": [
    "# Homogeneous Pairs | ChapxChap and WuhxWuh in Dict\n",
    "sample1 = altruism_df[(altruism_df['Location'] == 'Chapman') & (altruism_df['Treatment'] == 'Dict') & (altruism_df['Partner'] == 'Chapman')]['decision']\n",
    "sample2 = altruism_df[(altruism_df['Location'] == 'Wuhan') & (altruism_df['Treatment'] == 'Dict') & (altruism_df['Partner'] == 'Wuhan')]['decision']\n",
    "\n",
    "# Perform the Epps-Singleton test\n",
    "statistic, p_value = epps_singleton_2samp(sample1, sample2)\n",
    "print(f\"Epps-Singleton Test Statistic: {statistic}, P-value: {p_value}\")"
   ]
  },
  {
   "cell_type": "code",
   "execution_count": 38,
   "metadata": {},
   "outputs": [
    {
     "name": "stdout",
     "output_type": "stream",
     "text": [
      "Intel MKL WARNING: Support of Intel(R) Streaming SIMD Extensions 4.2 (Intel(R) SSE4.2) enabled only processors has been deprecated. Intel oneAPI Math Kernel Library 2025.0 will require Intel(R) Advanced Vector Extensions (Intel(R) AVX) instructions.\n",
      "Intel MKL WARNING: Support of Intel(R) Streaming SIMD Extensions 4.2 (Intel(R) SSE4.2) enabled only processors has been deprecated. Intel oneAPI Math Kernel Library 2025.0 will require Intel(R) Advanced Vector Extensions (Intel(R) AVX) instructions.\n",
      "Epps-Singleton Test Statistic: 3.0637984391391915, P-value: 0.5472062347756019\n"
     ]
    }
   ],
   "source": [
    "# Homogeneous Pairs | ChapxChap and WuhxWuh in Lie\n",
    "sample1 = altruism_df[(altruism_df['Location'] == 'Chapman') & (altruism_df['Treatment'] == 'Lie') & (altruism_df['Partner'] == 'Chapman')]['decision']\n",
    "sample2 = altruism_df[(altruism_df['Location'] == 'Wuhan') & (altruism_df['Treatment'] == 'Lie') & (altruism_df['Partner'] == 'Wuhan')]['decision']\n",
    "\n",
    "# Perform the Epps-Singleton test\n",
    "statistic, p_value = epps_singleton_2samp(sample1, sample2)\n",
    "print(f\"Epps-Singleton Test Statistic: {statistic}, P-value: {p_value}\")"
   ]
  },
  {
   "cell_type": "code",
   "execution_count": 39,
   "metadata": {},
   "outputs": [
    {
     "name": "stdout",
     "output_type": "stream",
     "text": [
      "Intel MKL WARNING: Support of Intel(R) Streaming SIMD Extensions 4.2 (Intel(R) SSE4.2) enabled only processors has been deprecated. Intel oneAPI Math Kernel Library 2025.0 will require Intel(R) Advanced Vector Extensions (Intel(R) AVX) instructions.\n",
      "Intel MKL WARNING: Support of Intel(R) Streaming SIMD Extensions 4.2 (Intel(R) SSE4.2) enabled only processors has been deprecated. Intel oneAPI Math Kernel Library 2025.0 will require Intel(R) Advanced Vector Extensions (Intel(R) AVX) instructions.\n",
      "Epps-Singleton Test Statistic: 1.2068045424353657, P-value: 0.8769770286179875\n"
     ]
    }
   ],
   "source": [
    "# Heterogenous Pairs | ChapxWuh and WuhxChap in Dict\n",
    "sample1 = altruism_df[(altruism_df['Location'] == 'Chapman') & (altruism_df['Treatment'] == 'Dict') & (altruism_df['Partner'] == 'Wuhan')]['decision']\n",
    "sample2 = altruism_df[(altruism_df['Location'] == 'Wuhan') & (altruism_df['Treatment'] == 'Dict') & (altruism_df['Partner'] == 'Chapman')]['decision']\n",
    "\n",
    "# Perform the Epps-Singleton test\n",
    "statistic, p_value = epps_singleton_2samp(sample1, sample2)\n",
    "print(f\"Epps-Singleton Test Statistic: {statistic}, P-value: {p_value}\")"
   ]
  },
  {
   "cell_type": "code",
   "execution_count": 40,
   "metadata": {},
   "outputs": [
    {
     "name": "stdout",
     "output_type": "stream",
     "text": [
      "Intel MKL WARNING: Support of Intel(R) Streaming SIMD Extensions 4.2 (Intel(R) SSE4.2) enabled only processors has been deprecated. Intel oneAPI Math Kernel Library 2025.0 will require Intel(R) Advanced Vector Extensions (Intel(R) AVX) instructions.\n",
      "Epps-Singleton Test Statistic: 8.764341556301396, P-value: 0.06726743786566039\n",
      "Intel MKL WARNING: Support of Intel(R) Streaming SIMD Extensions 4.2 (Intel(R) SSE4.2) enabled only processors has been deprecated. Intel oneAPI Math Kernel Library 2025.0 will require Intel(R) Advanced Vector Extensions (Intel(R) AVX) instructions.\n"
     ]
    }
   ],
   "source": [
    "# Heterogenous Pairs | ChapxWuh and WuhxChap in Lie\n",
    "sample1 = altruism_df[(altruism_df['Location'] == 'Chapman') & (altruism_df['Treatment'] == 'Lie') & (altruism_df['Partner'] == 'Wuhan')]['decision']\n",
    "sample2 = altruism_df[(altruism_df['Location'] == 'Wuhan') & (altruism_df['Treatment'] == 'Lie') & (altruism_df['Partner'] == 'Chapman')]['decision']\n",
    "\n",
    "# Perform the Epps-Singleton test\n",
    "statistic, p_value = epps_singleton_2samp(sample1, sample2)\n",
    "print(f\"Epps-Singleton Test Statistic: {statistic}, P-value: {p_value}\")"
   ]
  },
  {
   "cell_type": "markdown",
   "metadata": {},
   "source": [
    "### Brunner-Munzel"
   ]
  },
  {
   "cell_type": "markdown",
   "metadata": {},
   "source": [
    "Variation of the Mann Whitney U test that allows for unequal variance between the two samples"
   ]
  },
  {
   "cell_type": "code",
   "execution_count": 7,
   "metadata": {},
   "outputs": [
    {
     "name": "stdout",
     "output_type": "stream",
     "text": [
      "Brunner-Munzel Test Statistic: 1.972185892009216, P-value: 0.05172364851212419\n"
     ]
    }
   ],
   "source": [
    "# Chapman x Chapman | Lie vs Dict\n",
    "sample1 = altruism_df[(altruism_df['Location'] == 'Chapman') & (altruism_df['Treatment'] == 'Dict') & (altruism_df['Partner'] == 'Chapman')]['decision']\n",
    "sample2 = altruism_df[(altruism_df['Location'] == 'Chapman') & (altruism_df['Treatment'] == 'Lie') & (altruism_df['Partner'] == 'Chapman')]['decision']\n",
    "\n",
    "# Perform the Brunner-Munzel test\n",
    "statistic, p_value = brunnermunzel(sample1, sample2)\n",
    "print(f\"Brunner-Munzel Test Statistic: {statistic}, P-value: {p_value}\")"
   ]
  },
  {
   "cell_type": "code",
   "execution_count": 8,
   "metadata": {},
   "outputs": [
    {
     "name": "stdout",
     "output_type": "stream",
     "text": [
      "Brunner-Munzel Test Statistic: 0.36342535767885203, P-value: 0.7170113364222179\n"
     ]
    }
   ],
   "source": [
    "# Chapman x Dict | Partner: Chapman vs Wuhan\n",
    "sample1 = altruism_df[(altruism_df['Location'] == 'Chapman') & (altruism_df['Treatment'] == 'Dict') & (altruism_df['Partner'] == 'Chapman')]['decision']\n",
    "sample2 = altruism_df[(altruism_df['Location'] == 'Chapman') & (altruism_df['Treatment'] == 'Dict') & (altruism_df['Partner'] == 'Wuhan')]['decision']\n",
    "\n",
    "# Perform the Brunner-Munzel test\n",
    "statistic, p_value = brunnermunzel(sample1, sample2)\n",
    "print(f\"Brunner-Munzel Test Statistic: {statistic}, P-value: {p_value}\")"
   ]
  },
  {
   "cell_type": "code",
   "execution_count": 9,
   "metadata": {},
   "outputs": [
    {
     "name": "stdout",
     "output_type": "stream",
     "text": [
      "Brunner-Munzel Test Statistic: 0.3370215797417468, P-value: 0.7368715822741172\n"
     ]
    }
   ],
   "source": [
    "# Chapman x Lie | Partner: Chapman vs Wuhan\n",
    "sample1 = altruism_df[(altruism_df['Location'] == 'Chapman') & (altruism_df['Treatment'] == 'Lie') & (altruism_df['Partner'] == 'Chapman')]['decision']\n",
    "sample2 = altruism_df[(altruism_df['Location'] == 'Chapman') & (altruism_df['Treatment'] == 'Lie') & (altruism_df['Partner'] == 'Wuhan')]['decision']\n",
    "\n",
    "# Perform the Brunner-Munzel test\n",
    "statistic, p_value = brunnermunzel(sample1, sample2)\n",
    "print(f\"Brunner-Munzel Test Statistic: {statistic}, P-value: {p_value}\")"
   ]
  },
  {
   "cell_type": "code",
   "execution_count": 10,
   "metadata": {},
   "outputs": [
    {
     "name": "stdout",
     "output_type": "stream",
     "text": [
      "Brunner-Munzel Test Statistic: 1.1143889441411954, P-value: 0.26784430058251996\n"
     ]
    }
   ],
   "source": [
    "# Wuhan x Wuhan | Lie vs Dict\n",
    "sample1 = altruism_df[(altruism_df['Location'] == 'Wuhan') & (altruism_df['Treatment'] == 'Dict') & (altruism_df['Partner'] == 'Wuhan')]['decision']\n",
    "sample2 = altruism_df[(altruism_df['Location'] == 'Wuhan') & (altruism_df['Treatment'] == 'Lie') & (altruism_df['Partner'] == 'Wuhan')]['decision']\n",
    "\n",
    "# Perform the Brunner-Munzel test\n",
    "statistic, p_value = brunnermunzel(sample1, sample2)\n",
    "print(f\"Brunner-Munzel Test Statistic: {statistic}, P-value: {p_value}\")"
   ]
  },
  {
   "cell_type": "code",
   "execution_count": 11,
   "metadata": {},
   "outputs": [
    {
     "name": "stdout",
     "output_type": "stream",
     "text": [
      "Brunner-Munzel Test Statistic: -0.3562683929372186, P-value: 0.7224056047741975\n"
     ]
    }
   ],
   "source": [
    "# Wuhan x Dict | Partner: Chapman vs Wuhan\n",
    "sample1 = altruism_df[(altruism_df['Location'] == 'Wuhan') & (altruism_df['Treatment'] == 'Dict') & (altruism_df['Partner'] == 'Chapman')]['decision']\n",
    "sample2 = altruism_df[(altruism_df['Location'] == 'Wuhan') & (altruism_df['Treatment'] == 'Dict') & (altruism_df['Partner'] == 'Wuhan')]['decision']\n",
    "\n",
    "# Perform the Brunner-Munzel test\n",
    "statistic, p_value = brunnermunzel(sample1, sample2)\n",
    "print(f\"Brunner-Munzel Test Statistic: {statistic}, P-value: {p_value}\")"
   ]
  },
  {
   "cell_type": "code",
   "execution_count": 12,
   "metadata": {},
   "outputs": [
    {
     "name": "stdout",
     "output_type": "stream",
     "text": [
      "Brunner-Munzel Test Statistic: -0.05487749405942381, P-value: 0.9563455872709608\n"
     ]
    }
   ],
   "source": [
    "# Wuhan x Lie | Partner: Chapman vs Wuhan\n",
    "sample1 = altruism_df[(altruism_df['Location'] == 'Wuhan') & (altruism_df['Treatment'] == 'Lie') & (altruism_df['Partner'] == 'Chapman')]['decision']\n",
    "sample2 = altruism_df[(altruism_df['Location'] == 'Wuhan') & (altruism_df['Treatment'] == 'Lie') & (altruism_df['Partner'] == 'Wuhan')]['decision']\n",
    "\n",
    "# Perform the Brunner-Munzel test\n",
    "statistic, p_value = brunnermunzel(sample1, sample2)\n",
    "print(f\"Brunner-Munzel Test Statistic: {statistic}, P-value: {p_value}\")"
   ]
  },
  {
   "cell_type": "code",
   "execution_count": 13,
   "metadata": {},
   "outputs": [
    {
     "name": "stdout",
     "output_type": "stream",
     "text": [
      "Brunner-Munzel Test Statistic: -0.5626704428519513, P-value: 0.5749134853167583\n"
     ]
    }
   ],
   "source": [
    "# Homogeneous Pairs | ChapxChap and WuhxWuh in Dict\n",
    "sample1 = altruism_df[(altruism_df['Location'] == 'Chapman') & (altruism_df['Treatment'] == 'Dict') & (altruism_df['Partner'] == 'Chapman')]['decision']\n",
    "sample2 = altruism_df[(altruism_df['Location'] == 'Wuhan') & (altruism_df['Treatment'] == 'Dict') & (altruism_df['Partner'] == 'Wuhan')]['decision']\n",
    "\n",
    "# Perform the Brunner-Munzel test\n",
    "statistic, p_value = brunnermunzel(sample1, sample2)\n",
    "print(f\"Brunner-Munzel Test Statistic: {statistic}, P-value: {p_value}\")"
   ]
  },
  {
   "cell_type": "code",
   "execution_count": 14,
   "metadata": {},
   "outputs": [
    {
     "name": "stdout",
     "output_type": "stream",
     "text": [
      "Brunner-Munzel Test Statistic: -1.1825687419287154, P-value: 0.23980829348616953\n"
     ]
    }
   ],
   "source": [
    "# Homogeneous Pairs | ChapxChap and WuhxWuh in Lie\n",
    "sample1 = altruism_df[(altruism_df['Location'] == 'Chapman') & (altruism_df['Treatment'] == 'Lie') & (altruism_df['Partner'] == 'Chapman')]['decision']\n",
    "sample2 = altruism_df[(altruism_df['Location'] == 'Wuhan') & (altruism_df['Treatment'] == 'Lie') & (altruism_df['Partner'] == 'Wuhan')]['decision']\n",
    "\n",
    "# Perform the Brunner-Munzel test\n",
    "statistic, p_value = brunnermunzel(sample1, sample2)\n",
    "print(f\"Brunner-Munzel Test Statistic: {statistic}, P-value: {p_value}\")"
   ]
  },
  {
   "cell_type": "code",
   "execution_count": 15,
   "metadata": {},
   "outputs": [
    {
     "name": "stdout",
     "output_type": "stream",
     "text": [
      "Brunner-Munzel Test Statistic: -0.5386355564703953, P-value: 0.5913078438660737\n"
     ]
    }
   ],
   "source": [
    "# Heterogenous Pairs | ChapxWuh and WuhxChap in Dict\n",
    "sample1 = altruism_df[(altruism_df['Location'] == 'Chapman') & (altruism_df['Treatment'] == 'Dict') & (altruism_df['Partner'] == 'Wuhan')]['decision']\n",
    "sample2 = altruism_df[(altruism_df['Location'] == 'Wuhan') & (altruism_df['Treatment'] == 'Dict') & (altruism_df['Partner'] == 'Chapman')]['decision']\n",
    "\n",
    "# Perform the Brunner-Munzel test\n",
    "statistic, p_value = brunnermunzel(sample1, sample2)\n",
    "print(f\"Brunner-Munzel Test Statistic: {statistic}, P-value: {p_value}\")"
   ]
  },
  {
   "cell_type": "code",
   "execution_count": 16,
   "metadata": {},
   "outputs": [
    {
     "name": "stdout",
     "output_type": "stream",
     "text": [
      "Brunner-Munzel Test Statistic: -1.6523716869223801, P-value: 0.10176491169432877\n"
     ]
    }
   ],
   "source": [
    "# Heterogenous Pairs | ChapxWuh and WuhxChap in Lie\n",
    "sample1 = altruism_df[(altruism_df['Location'] == 'Chapman') & (altruism_df['Treatment'] == 'Lie') & (altruism_df['Partner'] == 'Wuhan')]['decision']\n",
    "sample2 = altruism_df[(altruism_df['Location'] == 'Wuhan') & (altruism_df['Treatment'] == 'Lie') & (altruism_df['Partner'] == 'Chapman')]['decision']\n",
    "\n",
    "# Perform the Brunner-Munzel test\n",
    "statistic, p_value = brunnermunzel(sample1, sample2)\n",
    "print(f\"Brunner-Munzel Test Statistic: {statistic}, P-value: {p_value}\")"
   ]
  },
  {
   "cell_type": "markdown",
   "metadata": {},
   "source": [
    "### One-Sample"
   ]
  },
  {
   "cell_type": "code",
   "execution_count": 10,
   "metadata": {},
   "outputs": [],
   "source": [
    "df_lie = altruism_df[altruism_df['Treatment'] == 'Lie']"
   ]
  },
  {
   "cell_type": "markdown",
   "metadata": {},
   "source": [
    "#### K-S"
   ]
  },
  {
   "cell_type": "markdown",
   "metadata": {},
   "source": [
    "we violate the assumptions of the kolmogorov-smirnov test for one- and two-samples"
   ]
  },
  {
   "cell_type": "code",
   "execution_count": 15,
   "metadata": {},
   "outputs": [],
   "source": [
    "# Define CDF for a uniform distribution over the range 1 to 5\n",
    "def uniform_cdf(x):\n",
    "    return np.where(x < 1, 0, np.where(x > 5, 1, (x - 1) / 4))"
   ]
  },
  {
   "cell_type": "code",
   "execution_count": 16,
   "metadata": {},
   "outputs": [
    {
     "name": "stdout",
     "output_type": "stream",
     "text": [
      "{'Group': ('Chapman', 'Chapman'), 'KS Statistic': 0.30102040816326525, 'P-value': 0.00019578552535997823}\n",
      "{'Group': ('Chapman', 'Wuhan'), 'KS Statistic': 0.2551020408163265, 'P-value': 0.0026768345633185753}\n",
      "{'Group': ('Wuhan', 'Chapman'), 'KS Statistic': 0.41666666666666663, 'P-value': 4.6156841347748165e-08}\n",
      "{'Group': ('Wuhan', 'Wuhan'), 'KS Statistic': 0.36111111111111116, 'P-value': 8.17424761876816e-07}\n"
     ]
    }
   ],
   "source": [
    "# Perform the one-sample K-S test for each group where Treatment == 'Lie'\n",
    "results = []\n",
    "for group, group_df in df_lie.groupby(['Location', 'Partner']):\n",
    "    # group_df['decision'] contains the decisions for this subgroup\n",
    "    statistic, p_value = kstest(group_df['decision'], uniform_cdf)\n",
    "    results.append({'Group': group, 'KS Statistic': statistic, 'P-value': p_value})\n",
    "\n",
    "# Display the results\n",
    "for result in results:\n",
    "    print(result)"
   ]
  },
  {
   "cell_type": "markdown",
   "metadata": {},
   "source": [
    "#### Chi-2"
   ]
  },
  {
   "cell_type": "code",
   "execution_count": 18,
   "metadata": {},
   "outputs": [
    {
     "name": "stdout",
     "output_type": "stream",
     "text": [
      "{'Group': ('Chapman', 'Chapman'), 'Chi2 Statistic': 6.408163265306122, 'P-value': 0.17066959885384034}\n",
      "{'Group': ('Chapman', 'Wuhan'), 'Chi2 Statistic': 7.63265306122449, 'P-value': 0.10600012308438914}\n",
      "{'Group': ('Wuhan', 'Chapman'), 'Chi2 Statistic': 30.541666666666668, 'P-value': 3.796392841091745e-06}\n",
      "{'Group': ('Wuhan', 'Wuhan'), 'Chi2 Statistic': 11.370370370370368, 'P-value': 0.022702249251902496}\n"
     ]
    }
   ],
   "source": [
    "unique_decisions = [1, 2, 3, 4, 5]\n",
    "num_decisions = len(unique_decisions)\n",
    "\n",
    "# Perform the Chi-squared test for each group where Treatment == 'Lie'\n",
    "results = []\n",
    "for group, group_df in df_lie.groupby(['Location', 'Partner']):\n",
    "    # Count occurrences of each decision\n",
    "    observed_frequencies = group_df['decision'].value_counts().reindex(unique_decisions, fill_value=0)\n",
    "    expected_frequencies = [len(group_df) / num_decisions] * num_decisions  # Uniform expected frequencies\n",
    "\n",
    "    # Chi-squared test\n",
    "    chi2_stat, p_value = chisquare(f_obs=observed_frequencies, f_exp=expected_frequencies)\n",
    "\n",
    "    results.append({\n",
    "        'Group': group,\n",
    "        'Chi2 Statistic': chi2_stat,\n",
    "        'P-value': p_value\n",
    "    })\n",
    "\n",
    "# Display the results\n",
    "for result in results:\n",
    "    print(result)"
   ]
  }
 ],
 "metadata": {
  "kernelspec": {
   "display_name": "MGPGG_DA",
   "language": "python",
   "name": "python3"
  },
  "language_info": {
   "codemirror_mode": {
    "name": "ipython",
    "version": 3
   },
   "file_extension": ".py",
   "mimetype": "text/x-python",
   "name": "python",
   "nbconvert_exporter": "python",
   "pygments_lexer": "ipython3",
   "version": "3.9.17"
  }
 },
 "nbformat": 4,
 "nbformat_minor": 2
}
